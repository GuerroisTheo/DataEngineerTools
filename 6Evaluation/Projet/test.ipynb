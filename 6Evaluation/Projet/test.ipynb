{
 "metadata": {
  "language_info": {
   "codemirror_mode": {
    "name": "ipython",
    "version": 3
   },
   "file_extension": ".py",
   "mimetype": "text/x-python",
   "name": "python",
   "nbconvert_exporter": "python",
   "pygments_lexer": "ipython3",
   "version": "3.7.3-final"
  },
  "orig_nbformat": 2,
  "kernelspec": {
   "name": "python3",
   "display_name": "Python 3",
   "language": "python"
  }
 },
 "nbformat": 4,
 "nbformat_minor": 2,
 "cells": [
  {
   "cell_type": "code",
   "execution_count": 14,
   "metadata": {},
   "outputs": [],
   "source": [
    "from elasticsearch import Elasticsearch\n",
    "from elasticsearch.helpers import bulk\n",
    "\n",
    "LOCAL = False\n",
    "\n",
    "Bilboard_ES = Elasticsearch(hosts=\"http://localhost\", port= 9200)"
   ]
  },
  {
   "cell_type": "code",
   "execution_count": 15,
   "metadata": {},
   "outputs": [
    {
     "output_type": "execute_result",
     "data": {
      "text/plain": [
       "True"
      ]
     },
     "metadata": {},
     "execution_count": 15
    }
   ],
   "source": [
    "Bilboard_ES.ping()"
   ]
  },
  {
   "cell_type": "code",
   "execution_count": 22,
   "metadata": {},
   "outputs": [],
   "source": [
    "def generate_data(documents):\n",
    "    \"\"\"\n",
    "    Génération des données cherchées\n",
    "    \"\"\"\n",
    "    for docu in documents:\n",
    "        yield {\n",
    "            \"_index\": \"artist\",\n",
    "            \"_type\": \"artist\",\n",
    "            \"_source\": {k:v if v else None for k,v in docu.items()},\n",
    "        }"
   ]
  },
  {
   "cell_type": "code",
   "execution_count": 7,
   "metadata": {},
   "outputs": [],
   "source": [
    "import pandas as pd"
   ]
  },
  {
   "cell_type": "code",
   "execution_count": 24,
   "metadata": {},
   "outputs": [
    {
     "output_type": "execute_result",
     "data": {
      "text/plain": [
       "Index(['artist', 'title', 'lyrics'], dtype='object')"
      ]
     },
     "metadata": {},
     "execution_count": 24
    }
   ],
   "source": [
    "data = pd.read_csv(\"lien.csv\")\n",
    "data.head()\n",
    "data.columns"
   ]
  },
  {
   "cell_type": "code",
   "execution_count": 26,
   "metadata": {},
   "outputs": [
    {
     "output_type": "execute_result",
     "data": {
      "text/plain": [
       "(5492, [])"
      ]
     },
     "metadata": {},
     "execution_count": 26
    }
   ],
   "source": [
    "documents = data.fillna(\"\").to_dict(orient=\"records\")\n",
    "bulk(Bilboard_ES, generate_data(documents))"
   ]
  },
  {
   "cell_type": "code",
   "execution_count": 38,
   "metadata": {},
   "outputs": [
    {
     "output_type": "execute_result",
     "data": {
      "text/plain": [
       "['Gnat',\n",
       " 'The Real Slim Shady',\n",
       " 'The Way I Am',\n",
       " 'Without Me',\n",
       " 'Cleanin’ Out My Closet',\n",
       " 'Lose Yourself',\n",
       " 'Superman',\n",
       " 'Sing for the Moment',\n",
       " 'Just Lose It',\n",
       " 'Like Toy Soldiers']"
      ]
     },
     "metadata": {},
     "execution_count": 38
    }
   ],
   "source": [
    "def search_singer(singer):\n",
    "    QUERY = {\n",
    "      \"query\": {\n",
    "        \"term\" : { \n",
    "            \"artist\" : singer.lower()} \n",
    "      }\n",
    "    }\n",
    "    result = Bilboard_ES.search(index=\"artist\", body=QUERY)\n",
    "    source = result[\"hits\"][\"hits\"]\n",
    "    seen = set()\n",
    "    new_source = []\n",
    "    for d in source:\n",
    "        t = tuple(d[\"_source\"].items())\n",
    "        if t not in seen:\n",
    "            seen.add(t)\n",
    "            new_source.append(d)\n",
    "    \n",
    "    artist = [elt['_source']['artist'] for elt in new_source]\n",
    "    title = [elt['_source']['title'] for elt in new_source]\n",
    "    lyrics = [elt['_source']['lyrics'] for elt in new_source]\n",
    "\n",
    "\n",
    "\n",
    "    return title\n",
    "search_singer('Eminem')"
   ]
  },
  {
   "cell_type": "code",
   "execution_count": null,
   "metadata": {},
   "outputs": [],
   "source": []
  }
 ]
}