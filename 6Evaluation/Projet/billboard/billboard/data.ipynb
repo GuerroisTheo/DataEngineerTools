{
 "cells": [
  {
   "cell_type": "code",
   "execution_count": 1,
   "metadata": {},
   "outputs": [],
   "source": [
    "import re\n",
    "import numpy as np\n",
    "import pandas as pd"
   ]
  },
  {
   "cell_type": "code",
   "execution_count": 2,
   "metadata": {},
   "outputs": [],
   "source": [
    "data = pd.read_csv('out.csv')"
   ]
  },
  {
   "cell_type": "code",
   "execution_count": 3,
   "metadata": {},
   "outputs": [
    {
     "output_type": "execute_result",
     "data": {
      "text/plain": [
       "         date                                     title         artist  rank  \\\n",
       "0  2021-01-02           All I Want For Christmas Is You   Mariah Carey     1   \n",
       "1  2021-01-02         Rockin' Around The Christmas Tree     Brenda Lee     2   \n",
       "2  2021-01-02                          Jingle Bell Rock    Bobby Helms     3   \n",
       "3  2021-01-02                   A Holly Jolly Christmas      Burl Ives     4   \n",
       "4  2021-01-02  It's The Most Wonderful Time Of The Year  Andy Williams     5   \n",
       "\n",
       "  last_week  peak  weeks  \n",
       "0         2     1     43  \n",
       "1         3     2     38  \n",
       "2         4     3     35  \n",
       "3         6     4     19  \n",
       "4         7     5     20  "
      ],
      "text/html": "<div>\n<style scoped>\n    .dataframe tbody tr th:only-of-type {\n        vertical-align: middle;\n    }\n\n    .dataframe tbody tr th {\n        vertical-align: top;\n    }\n\n    .dataframe thead th {\n        text-align: right;\n    }\n</style>\n<table border=\"1\" class=\"dataframe\">\n  <thead>\n    <tr style=\"text-align: right;\">\n      <th></th>\n      <th>date</th>\n      <th>title</th>\n      <th>artist</th>\n      <th>rank</th>\n      <th>last_week</th>\n      <th>peak</th>\n      <th>weeks</th>\n    </tr>\n  </thead>\n  <tbody>\n    <tr>\n      <th>0</th>\n      <td>2021-01-02</td>\n      <td>All I Want For Christmas Is You</td>\n      <td>Mariah Carey</td>\n      <td>1</td>\n      <td>2</td>\n      <td>1</td>\n      <td>43</td>\n    </tr>\n    <tr>\n      <th>1</th>\n      <td>2021-01-02</td>\n      <td>Rockin' Around The Christmas Tree</td>\n      <td>Brenda Lee</td>\n      <td>2</td>\n      <td>3</td>\n      <td>2</td>\n      <td>38</td>\n    </tr>\n    <tr>\n      <th>2</th>\n      <td>2021-01-02</td>\n      <td>Jingle Bell Rock</td>\n      <td>Bobby Helms</td>\n      <td>3</td>\n      <td>4</td>\n      <td>3</td>\n      <td>35</td>\n    </tr>\n    <tr>\n      <th>3</th>\n      <td>2021-01-02</td>\n      <td>A Holly Jolly Christmas</td>\n      <td>Burl Ives</td>\n      <td>4</td>\n      <td>6</td>\n      <td>4</td>\n      <td>19</td>\n    </tr>\n    <tr>\n      <th>4</th>\n      <td>2021-01-02</td>\n      <td>It's The Most Wonderful Time Of The Year</td>\n      <td>Andy Williams</td>\n      <td>5</td>\n      <td>7</td>\n      <td>5</td>\n      <td>20</td>\n    </tr>\n  </tbody>\n</table>\n</div>"
     },
     "metadata": {},
     "execution_count": 3
    }
   ],
   "source": [
    "data.head()"
   ]
  },
  {
   "cell_type": "code",
   "execution_count": 238,
   "metadata": {},
   "outputs": [
    {
     "output_type": "execute_result",
     "data": {
      "text/plain": [
       "Index(['date', 'title', 'artist', 'rank', 'last_week', 'peak', 'weeks'], dtype='object')"
      ]
     },
     "metadata": {},
     "execution_count": 238
    }
   ],
   "source": [
    "data.columns"
   ]
  },
  {
   "cell_type": "code",
   "execution_count": 239,
   "metadata": {},
   "outputs": [],
   "source": [
    "data = data.drop(['date', 'rank', 'last_week', 'peak', 'weeks'], axis=1)"
   ]
  },
  {
   "cell_type": "code",
   "execution_count": 240,
   "metadata": {},
   "outputs": [],
   "source": [
    "data = data.drop_duplicates()"
   ]
  },
  {
   "cell_type": "code",
   "execution_count": 241,
   "metadata": {},
   "outputs": [],
   "source": [
    "data = data.reset_index(drop=True)"
   ]
  },
  {
   "cell_type": "code",
   "execution_count": 242,
   "metadata": {},
   "outputs": [
    {
     "output_type": "execute_result",
     "data": {
      "text/plain": [
       "                                        title             artist\n",
       "0             All I Want For Christmas Is You       Mariah Carey\n",
       "1           Rockin' Around The Christmas Tree         Brenda Lee\n",
       "2                            Jingle Bell Rock        Bobby Helms\n",
       "3                     A Holly Jolly Christmas          Burl Ives\n",
       "4    It's The Most Wonderful Time Of The Year      Andy Williams\n",
       "..                                        ...                ...\n",
       "96                          No Body, No Crime  Taylor Swift HAIM\n",
       "97                   Moonwalking In Calabasas                DDG\n",
       "98                          Took Her To The O           King Von\n",
       "99                        Put Your Records On        Ritt Momney\n",
       "100                            Last Christmas                NaN\n",
       "\n",
       "[101 rows x 2 columns]"
      ],
      "text/html": "<div>\n<style scoped>\n    .dataframe tbody tr th:only-of-type {\n        vertical-align: middle;\n    }\n\n    .dataframe tbody tr th {\n        vertical-align: top;\n    }\n\n    .dataframe thead th {\n        text-align: right;\n    }\n</style>\n<table border=\"1\" class=\"dataframe\">\n  <thead>\n    <tr style=\"text-align: right;\">\n      <th></th>\n      <th>title</th>\n      <th>artist</th>\n    </tr>\n  </thead>\n  <tbody>\n    <tr>\n      <th>0</th>\n      <td>All I Want For Christmas Is You</td>\n      <td>Mariah Carey</td>\n    </tr>\n    <tr>\n      <th>1</th>\n      <td>Rockin' Around The Christmas Tree</td>\n      <td>Brenda Lee</td>\n    </tr>\n    <tr>\n      <th>2</th>\n      <td>Jingle Bell Rock</td>\n      <td>Bobby Helms</td>\n    </tr>\n    <tr>\n      <th>3</th>\n      <td>A Holly Jolly Christmas</td>\n      <td>Burl Ives</td>\n    </tr>\n    <tr>\n      <th>4</th>\n      <td>It's The Most Wonderful Time Of The Year</td>\n      <td>Andy Williams</td>\n    </tr>\n    <tr>\n      <th>...</th>\n      <td>...</td>\n      <td>...</td>\n    </tr>\n    <tr>\n      <th>96</th>\n      <td>No Body, No Crime</td>\n      <td>Taylor Swift HAIM</td>\n    </tr>\n    <tr>\n      <th>97</th>\n      <td>Moonwalking In Calabasas</td>\n      <td>DDG</td>\n    </tr>\n    <tr>\n      <th>98</th>\n      <td>Took Her To The O</td>\n      <td>King Von</td>\n    </tr>\n    <tr>\n      <th>99</th>\n      <td>Put Your Records On</td>\n      <td>Ritt Momney</td>\n    </tr>\n    <tr>\n      <th>100</th>\n      <td>Last Christmas</td>\n      <td>NaN</td>\n    </tr>\n  </tbody>\n</table>\n<p>101 rows × 2 columns</p>\n</div>"
     },
     "metadata": {},
     "execution_count": 242
    }
   ],
   "source": [
    "data.head(101)"
   ]
  },
  {
   "cell_type": "code",
   "execution_count": 243,
   "metadata": {},
   "outputs": [],
   "source": [
    "data = data[['artist', 'title']]"
   ]
  },
  {
   "cell_type": "code",
   "execution_count": 244,
   "metadata": {},
   "outputs": [
    {
     "output_type": "execute_result",
     "data": {
      "text/plain": [
       "          artist                                     title\n",
       "0   Mariah Carey           All I Want For Christmas Is You\n",
       "1     Brenda Lee         Rockin' Around The Christmas Tree\n",
       "2    Bobby Helms                          Jingle Bell Rock\n",
       "3      Burl Ives                   A Holly Jolly Christmas\n",
       "4  Andy Williams  It's The Most Wonderful Time Of The Year"
      ],
      "text/html": "<div>\n<style scoped>\n    .dataframe tbody tr th:only-of-type {\n        vertical-align: middle;\n    }\n\n    .dataframe tbody tr th {\n        vertical-align: top;\n    }\n\n    .dataframe thead th {\n        text-align: right;\n    }\n</style>\n<table border=\"1\" class=\"dataframe\">\n  <thead>\n    <tr style=\"text-align: right;\">\n      <th></th>\n      <th>artist</th>\n      <th>title</th>\n    </tr>\n  </thead>\n  <tbody>\n    <tr>\n      <th>0</th>\n      <td>Mariah Carey</td>\n      <td>All I Want For Christmas Is You</td>\n    </tr>\n    <tr>\n      <th>1</th>\n      <td>Brenda Lee</td>\n      <td>Rockin' Around The Christmas Tree</td>\n    </tr>\n    <tr>\n      <th>2</th>\n      <td>Bobby Helms</td>\n      <td>Jingle Bell Rock</td>\n    </tr>\n    <tr>\n      <th>3</th>\n      <td>Burl Ives</td>\n      <td>A Holly Jolly Christmas</td>\n    </tr>\n    <tr>\n      <th>4</th>\n      <td>Andy Williams</td>\n      <td>It's The Most Wonderful Time Of The Year</td>\n    </tr>\n  </tbody>\n</table>\n</div>"
     },
     "metadata": {},
     "execution_count": 244
    }
   ],
   "source": [
    "data.head()"
   ]
  },
  {
   "cell_type": "code",
   "execution_count": 245,
   "metadata": {},
   "outputs": [
    {
     "output_type": "execute_result",
     "data": {
      "text/plain": [
       "(8747, 2)"
      ]
     },
     "metadata": {},
     "execution_count": 245
    }
   ],
   "source": [
    "data.shape"
   ]
  },
  {
   "cell_type": "code",
   "execution_count": 246,
   "metadata": {},
   "outputs": [
    {
     "output_type": "execute_result",
     "data": {
      "text/plain": [
       "artist    47\n",
       "title     34\n",
       "dtype: int64"
      ]
     },
     "metadata": {},
     "execution_count": 246
    }
   ],
   "source": [
    "data['artist'].replace('', np.nan, inplace=True)\n",
    "data['title'].replace('', np.nan, inplace=True)\n",
    "data.isna().sum()"
   ]
  },
  {
   "cell_type": "code",
   "execution_count": 247,
   "metadata": {},
   "outputs": [
    {
     "output_type": "execute_result",
     "data": {
      "text/plain": [
       "artist    0\n",
       "title     0\n",
       "dtype: int64"
      ]
     },
     "metadata": {},
     "execution_count": 247
    }
   ],
   "source": [
    "data.dropna(subset = [\"artist\"], inplace=True)\n",
    "data.dropna(subset = [\"title\"], inplace=True)\n",
    "data.isna().sum()"
   ]
  },
  {
   "cell_type": "code",
   "execution_count": 248,
   "metadata": {},
   "outputs": [],
   "source": [
    "data = data.reset_index(drop=True)"
   ]
  },
  {
   "cell_type": "code",
   "execution_count": 250,
   "metadata": {},
   "outputs": [],
   "source": [
    "data.to_csv('dataGoogle3.csv', index=False)"
   ]
  },
  {
   "cell_type": "code",
   "execution_count": 251,
   "metadata": {},
   "outputs": [],
   "source": [
    "dataTiret = data"
   ]
  },
  {
   "cell_type": "code",
   "execution_count": 252,
   "metadata": {},
   "outputs": [],
   "source": [
    "for i in range(len(dataTiret['artist'])):\n",
    "    dataTiret['artist'][i] = re.sub(r\"[.',]+\", \"\",dataTiret['artist'][i])\n",
    "    dataTiret['title'][i] = re.sub(r\"[.',]+\", \"\",dataTiret['title'][i])\n",
    "\n",
    "    dataTiret['artist'][i] = re.sub(r'\\([^)]*\\)', '',dataTiret['artist'][i])\n",
    "    dataTiret['title'][i] = re.sub(r'\\([^)]*\\)', '',dataTiret['title'][i])\n",
    "\n",
    "    dataTiret['artist'][i] = re.sub(r\"\\+\", \" \",dataTiret['artist'][i])\n",
    "    dataTiret['title'][i] = re.sub(r\"\\+\", \" \",dataTiret['title'][i])\n",
    " \n",
    "    dataTiret['artist'][i] = re.sub(r\"\\s+\", \"-\",dataTiret['artist'][i])\n",
    "    dataTiret['title'][i] = re.sub(r\"\\s+\", \"-\",dataTiret['title'][i])"
   ]
  },
  {
   "cell_type": "code",
   "execution_count": 253,
   "metadata": {},
   "outputs": [],
   "source": [
    "dataTiret.to_csv('dataGoogle2.csv', index=False)"
   ]
  }
 ],
 "metadata": {
  "kernelspec": {
   "display_name": "Python 3",
   "language": "python",
   "name": "python3"
  },
  "language_info": {
   "codemirror_mode": {
    "name": "ipython",
    "version": 3
   },
   "file_extension": ".py",
   "mimetype": "text/x-python",
   "name": "python",
   "nbconvert_exporter": "python",
   "pygments_lexer": "ipython3",
   "version": "3.7.3-final"
  }
 },
 "nbformat": 4,
 "nbformat_minor": 2
}