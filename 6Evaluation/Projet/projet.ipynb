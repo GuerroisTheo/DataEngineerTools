{
 "metadata": {
  "language_info": {
   "codemirror_mode": {
    "name": "ipython",
    "version": 3
   },
   "file_extension": ".py",
   "mimetype": "text/x-python",
   "name": "python",
   "nbconvert_exporter": "python",
   "pygments_lexer": "ipython3",
   "version": "3.7.3-final"
  },
  "orig_nbformat": 2,
  "kernelspec": {
   "name": "python3",
   "display_name": "Python 3"
  }
 },
 "nbformat": 4,
 "nbformat_minor": 2,
 "cells": [
  {
   "cell_type": "code",
   "execution_count": 1,
   "metadata": {},
   "outputs": [
    {
     "output_type": "stream",
     "name": "stdout",
     "text": [
      "Requirement already satisfied: scrapy in c:\\users\\theo\\anaconda3.1\\lib\\site-packages (2.4.0)\n",
      "Requirement already satisfied: w3lib>=1.17.0 in c:\\users\\theo\\anaconda3.1\\lib\\site-packages (from scrapy) (1.22.0)\n",
      "Requirement already satisfied: pyOpenSSL>=16.2.0 in c:\\users\\theo\\anaconda3.1\\lib\\site-packages (from scrapy) (20.0.0)\n",
      "Requirement already satisfied: cryptography>=2.0 in c:\\users\\theo\\anaconda3.1\\lib\\site-packages (from scrapy) (3.2.1)\n",
      "Requirement already satisfied: itemloaders>=1.0.1 in c:\\users\\theo\\anaconda3.1\\lib\\site-packages (from scrapy) (1.0.4)\n",
      "Requirement already satisfied: itemadapter>=0.1.0 in c:\\users\\theo\\anaconda3.1\\lib\\site-packages (from scrapy) (0.2.0)\n",
      "Requirement already satisfied: protego>=0.1.15 in c:\\users\\theo\\anaconda3.1\\lib\\site-packages (from scrapy) (0.1.16)\n",
      "Requirement already satisfied: PyDispatcher>=2.0.5 in c:\\users\\theo\\anaconda3.1\\lib\\site-packages (from scrapy) (2.0.5)\n",
      "Requirement already satisfied: service-identity>=16.0.0 in c:\\users\\theo\\anaconda3.1\\lib\\site-packages (from scrapy) (18.1.0)\n",
      "Requirement already satisfied: parsel>=1.5.0 in c:\\users\\theo\\anaconda3.1\\lib\\site-packages (from scrapy) (1.6.0)\n",
      "Requirement already satisfied: queuelib>=1.4.2 in c:\\users\\theo\\anaconda3.1\\lib\\site-packages (from scrapy) (1.5.0)\n",
      "Requirement already satisfied: Twisted>=17.9.0 in c:\\users\\theo\\anaconda3.1\\lib\\site-packages (from scrapy) (20.3.0)\n",
      "Requirement already satisfied: cssselect>=0.9.1 in c:\\users\\theo\\anaconda3.1\\lib\\site-packages (from scrapy) (1.1.0)\n",
      "Requirement already satisfied: six>=1.4.1 in c:\\users\\theo\\anaconda3.1\\lib\\site-packages (from cryptography>=2.0->scrapy) (1.15.0)\n",
      "Requirement already satisfied: cffi!=1.11.3,>=1.8 in c:\\users\\theo\\anaconda3.1\\lib\\site-packages (from cryptography>=2.0->scrapy) (1.14.4)\n",
      "Requirement already satisfied: pycparser in c:\\users\\theo\\anaconda3.1\\lib\\site-packages (from cffi!=1.11.3,>=1.8->cryptography>=2.0->scrapy) (2.20)\n",
      "Requirement already satisfied: w3lib>=1.17.0 in c:\\users\\theo\\anaconda3.1\\lib\\site-packages (from scrapy) (1.22.0)\n",
      "Requirement already satisfied: itemadapter>=0.1.0 in c:\\users\\theo\\anaconda3.1\\lib\\site-packages (from scrapy) (0.2.0)\n",
      "Requirement already satisfied: parsel>=1.5.0 in c:\\users\\theo\\anaconda3.1\\lib\\site-packages (from scrapy) (1.6.0)\n",
      "Requirement already satisfied: jmespath>=0.9.5 in c:\\users\\theo\\anaconda3.1\\lib\\site-packages (from itemloaders>=1.0.1->scrapy) (0.10.0)\n",
      "Collecting lxml>=3.5.0\n",
      "  Downloading lxml-4.6.2-cp37-cp37m-win_amd64.whl (3.5 MB)\n",
      "Requirement already satisfied: cssselect>=0.9.1 in c:\\users\\theo\\anaconda3.1\\lib\\site-packages (from scrapy) (1.1.0)\n",
      "Requirement already satisfied: w3lib>=1.17.0 in c:\\users\\theo\\anaconda3.1\\lib\\site-packages (from scrapy) (1.22.0)\n",
      "Requirement already satisfied: six>=1.4.1 in c:\\users\\theo\\anaconda3.1\\lib\\site-packages (from cryptography>=2.0->scrapy) (1.15.0)\n",
      "Requirement already satisfied: six>=1.4.1 in c:\\users\\theo\\anaconda3.1\\lib\\site-packages (from cryptography>=2.0->scrapy) (1.15.0)\n",
      "Requirement already satisfied: six>=1.4.1 in c:\\users\\theo\\anaconda3.1\\lib\\site-packages (from cryptography>=2.0->scrapy) (1.15.0)\n",
      "Requirement already satisfied: cryptography>=2.0 in c:\\users\\theo\\anaconda3.1\\lib\\site-packages (from scrapy) (3.2.1)\n",
      "Requirement already satisfied: pyasn1-modules in c:\\users\\theo\\anaconda3.1\\lib\\site-packages (from service-identity>=16.0.0->scrapy) (0.2.8)\n",
      "Requirement already satisfied: pyasn1 in c:\\users\\theo\\anaconda3.1\\lib\\site-packages (from service-identity>=16.0.0->scrapy) (0.4.8)\n",
      "Requirement already satisfied: attrs>=16.0.0 in c:\\users\\theo\\anaconda3.1\\lib\\site-packages (from service-identity>=16.0.0->scrapy) (20.3.0)\n",
      "Requirement already satisfied: cryptography>=2.0 in c:\\users\\theo\\anaconda3.1\\lib\\site-packages (from scrapy) (3.2.1)\n",
      "Requirement already satisfied: pyasn1 in c:\\users\\theo\\anaconda3.1\\lib\\site-packages (from service-identity>=16.0.0->scrapy) (0.4.8)\n",
      "Requirement already satisfied: constantly>=15.1 in c:\\users\\theo\\anaconda3.1\\lib\\site-packages (from Twisted>=17.9.0->scrapy) (15.1.0)\n",
      "Requirement already satisfied: incremental>=16.10.1 in c:\\users\\theo\\anaconda3.1\\lib\\site-packages (from Twisted>=17.9.0->scrapy) (17.5.0)\n",
      "Requirement already satisfied: attrs>=16.0.0 in c:\\users\\theo\\anaconda3.1\\lib\\site-packages (from service-identity>=16.0.0->scrapy) (20.3.0)\n",
      "Requirement already satisfied: hyperlink>=17.1.1 in c:\\users\\theo\\anaconda3.1\\lib\\site-packages (from Twisted>=17.9.0->scrapy) (20.0.1)\n",
      "Requirement already satisfied: PyHamcrest!=1.10.0,>=1.9.0 in c:\\users\\theo\\anaconda3.1\\lib\\site-packages (from Twisted>=17.9.0->scrapy) (2.0.2)\n",
      "Requirement already satisfied: Automat>=0.3.0 in c:\\users\\theo\\anaconda3.1\\lib\\site-packages (from Twisted>=17.9.0->scrapy) (20.2.0)\n",
      "Requirement already satisfied: attrs>=16.0.0 in c:\\users\\theo\\anaconda3.1\\lib\\site-packages (from service-identity>=16.0.0->scrapy) (20.3.0)\n",
      "Requirement already satisfied: six>=1.4.1 in c:\\users\\theo\\anaconda3.1\\lib\\site-packages (from cryptography>=2.0->scrapy) (1.15.0)\n",
      "Requirement already satisfied: idna>=2.5 in c:\\users\\theo\\anaconda3.1\\lib\\site-packages (from hyperlink>=17.1.1->Twisted>=17.9.0->scrapy) (2.10)\n",
      "Requirement already satisfied: six>=1.4.1 in c:\\users\\theo\\anaconda3.1\\lib\\site-packages (from cryptography>=2.0->scrapy) (1.15.0)\n",
      "Collecting zope.interface>=4.1.3\n",
      "  Using cached zope.interface-5.2.0-cp37-cp37m-win_amd64.whl (196 kB)\n",
      "Requirement already satisfied: setuptools in c:\\users\\theo\\anaconda3.1\\lib\\site-packages (from zope.interface>=4.1.3->scrapy) (51.0.0.post20201207)\n",
      "Installing collected packages: lxml, zope.interface\n",
      "Successfully installed lxml-4.6.2 zope.interface-5.2.0\n"
     ]
    }
   ],
   "source": [
    "!pip install scrapy"
   ]
  },
  {
   "cell_type": "code",
   "execution_count": 2,
   "metadata": {},
   "outputs": [],
   "source": [
    "import scrapy"
   ]
  },
  {
   "cell_type": "code",
   "execution_count": 3,
   "metadata": {},
   "outputs": [
    {
     "output_type": "stream",
     "name": "stdout",
     "text": [
      "New Scrapy project 'ytmusic', using template directory 'c:\\users\\theo\\anaconda3.1\\lib\\site-packages\\scrapy\\templates\\project', created in:\n    c:\\Users\\Theo\\Documents\\GitHub\\DataEngineerTools\\6Evaluation\\Projet\\ytmusic\n\nYou can start your first spider with:\n    cd ytmusic\n    scrapy genspider example example.com\n"
     ]
    }
   ],
   "source": [
    "!scrapy startproject ytmusic"
   ]
  },
  {
   "cell_type": "code",
   "execution_count": 4,
   "metadata": {},
   "outputs": [],
   "source": [
    "!cd ytmusic"
   ]
  },
  {
   "cell_type": "code",
   "execution_count": 5,
   "metadata": {},
   "outputs": [
    {
     "output_type": "stream",
     "name": "stdout",
     "text": [
      "Created spider 'ytmusic' using template 'basic' \n"
     ]
    }
   ],
   "source": [
    "!scrapy genspider ytmusic https://music.youtube.com/"
   ]
  },
  {
   "cell_type": "code",
   "execution_count": null,
   "metadata": {},
   "outputs": [
    {
     "output_type": "error",
     "ename": "Error",
     "evalue": "Pip module Unable to parse debugpy output, please log an issue with https://github.com/microsoft/vscode-jupyter is required for debugging cells. You will need to install it to debug cells.",
     "traceback": [
      "Error: Pip module Unable to parse debugpy output, please log an issue with https://github.com/microsoft/vscode-jupyter is required for debugging cells. You will need to install it to debug cells.",
      "at b.parseConnectInfo (c:\\Users\\Theo\\.vscode\\extensions\\ms-toolsai.jupyter-2020.11.399280825\\out\\client\\extension.js:49:490044)",
      "at b.connectToLocal (c:\\Users\\Theo\\.vscode\\extensions\\ms-toolsai.jupyter-2020.11.399280825\\out\\client\\extension.js:49:490571)",
      "at async b.connect (c:\\Users\\Theo\\.vscode\\extensions\\ms-toolsai.jupyter-2020.11.399280825\\out\\client\\extension.js:49:488448)",
      "at async b.startDebugSession (c:\\Users\\Theo\\.vscode\\extensions\\ms-toolsai.jupyter-2020.11.399280825\\out\\client\\extension.js:49:487595)",
      "at async f.submitCode (c:\\Users\\Theo\\.vscode\\extensions\\ms-toolsai.jupyter-2020.11.399280825\\out\\client\\extension.js:32:564746)",
      "at async f.handleRunByLine (c:\\Users\\Theo\\.vscode\\extensions\\ms-toolsai.jupyter-2020.11.399280825\\out\\client\\extension.js:9:173151)"
     ]
    }
   ],
   "source": [
    "!scrapy shell \"https://music.youtube.com/\""
   ]
  },
  {
   "cell_type": "code",
   "execution_count": null,
   "metadata": {},
   "outputs": [],
   "source": []
  }
 ]
}