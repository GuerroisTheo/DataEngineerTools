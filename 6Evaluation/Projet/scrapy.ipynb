{
 "cells": [
  {
   "cell_type": "code",
   "execution_count": 1,
   "metadata": {},
   "outputs": [
    {
     "name": "stdout",
     "output_type": "stream",
     "text": [
      "Requirement already satisfied: scrapy in /root/.local/share/virtualenvs/code-AFz48Hjb/lib/python3.8/site-packages (2.4.0)\n",
      "Requirement already satisfied: lxml>=3.5.0; platform_python_implementation == \"CPython\" in /root/.local/share/virtualenvs/code-AFz48Hjb/lib/python3.8/site-packages (from scrapy) (4.6.1)\n",
      "Requirement already satisfied: itemloaders>=1.0.1 in /root/.local/share/virtualenvs/code-AFz48Hjb/lib/python3.8/site-packages (from scrapy) (1.0.3)\n",
      "Requirement already satisfied: service-identity>=16.0.0 in /root/.local/share/virtualenvs/code-AFz48Hjb/lib/python3.8/site-packages (from scrapy) (18.1.0)\n",
      "Requirement already satisfied: zope.interface>=4.1.3 in /root/.local/share/virtualenvs/code-AFz48Hjb/lib/python3.8/site-packages (from scrapy) (5.2.0)\n",
      "Requirement already satisfied: protego>=0.1.15 in /root/.local/share/virtualenvs/code-AFz48Hjb/lib/python3.8/site-packages (from scrapy) (0.1.16)\n",
      "Requirement already satisfied: queuelib>=1.4.2 in /root/.local/share/virtualenvs/code-AFz48Hjb/lib/python3.8/site-packages (from scrapy) (1.5.0)\n",
      "Requirement already satisfied: w3lib>=1.17.0 in /root/.local/share/virtualenvs/code-AFz48Hjb/lib/python3.8/site-packages (from scrapy) (1.22.0)\n",
      "Requirement already satisfied: parsel>=1.5.0 in /root/.local/share/virtualenvs/code-AFz48Hjb/lib/python3.8/site-packages (from scrapy) (1.6.0)\n",
      "Requirement already satisfied: Twisted>=17.9.0 in /root/.local/share/virtualenvs/code-AFz48Hjb/lib/python3.8/site-packages (from scrapy) (20.3.0)\n",
      "Requirement already satisfied: pyOpenSSL>=16.2.0 in /root/.local/share/virtualenvs/code-AFz48Hjb/lib/python3.8/site-packages (from scrapy) (19.1.0)\n",
      "Requirement already satisfied: cryptography>=2.0 in /root/.local/share/virtualenvs/code-AFz48Hjb/lib/python3.8/site-packages (from scrapy) (3.2.1)\n",
      "Requirement already satisfied: cssselect>=0.9.1 in /root/.local/share/virtualenvs/code-AFz48Hjb/lib/python3.8/site-packages (from scrapy) (1.1.0)\n",
      "Requirement already satisfied: PyDispatcher>=2.0.5 in /root/.local/share/virtualenvs/code-AFz48Hjb/lib/python3.8/site-packages (from scrapy) (2.0.5)\n",
      "Requirement already satisfied: itemadapter>=0.1.0 in /root/.local/share/virtualenvs/code-AFz48Hjb/lib/python3.8/site-packages (from scrapy) (0.2.0)\n",
      "Requirement already satisfied: jmespath>=0.9.5 in /root/.local/share/virtualenvs/code-AFz48Hjb/lib/python3.8/site-packages (from itemloaders>=1.0.1->scrapy) (0.10.0)\n",
      "Requirement already satisfied: attrs>=16.0.0 in /root/.local/share/virtualenvs/code-AFz48Hjb/lib/python3.8/site-packages (from service-identity>=16.0.0->scrapy) (20.3.0)\n",
      "Requirement already satisfied: pyasn1-modules in /root/.local/share/virtualenvs/code-AFz48Hjb/lib/python3.8/site-packages (from service-identity>=16.0.0->scrapy) (0.2.8)\n",
      "Requirement already satisfied: pyasn1 in /root/.local/share/virtualenvs/code-AFz48Hjb/lib/python3.8/site-packages (from service-identity>=16.0.0->scrapy) (0.4.8)\n",
      "Requirement already satisfied: setuptools in /root/.local/share/virtualenvs/code-AFz48Hjb/lib/python3.8/site-packages (from zope.interface>=4.1.3->scrapy) (50.3.2)\n",
      "Requirement already satisfied: six in /root/.local/share/virtualenvs/code-AFz48Hjb/lib/python3.8/site-packages (from protego>=0.1.15->scrapy) (1.15.0)\n",
      "Requirement already satisfied: PyHamcrest!=1.10.0,>=1.9.0 in /root/.local/share/virtualenvs/code-AFz48Hjb/lib/python3.8/site-packages (from Twisted>=17.9.0->scrapy) (2.0.2)\n",
      "Requirement already satisfied: hyperlink>=17.1.1 in /root/.local/share/virtualenvs/code-AFz48Hjb/lib/python3.8/site-packages (from Twisted>=17.9.0->scrapy) (20.0.1)\n",
      "Requirement already satisfied: constantly>=15.1 in /root/.local/share/virtualenvs/code-AFz48Hjb/lib/python3.8/site-packages (from Twisted>=17.9.0->scrapy) (15.1.0)\n",
      "Requirement already satisfied: Automat>=0.3.0 in /root/.local/share/virtualenvs/code-AFz48Hjb/lib/python3.8/site-packages (from Twisted>=17.9.0->scrapy) (20.2.0)\n",
      "Requirement already satisfied: incremental>=16.10.1 in /root/.local/share/virtualenvs/code-AFz48Hjb/lib/python3.8/site-packages (from Twisted>=17.9.0->scrapy) (17.5.0)\n",
      "Requirement already satisfied: cffi!=1.11.3,>=1.8 in /root/.local/share/virtualenvs/code-AFz48Hjb/lib/python3.8/site-packages (from cryptography>=2.0->scrapy) (1.14.3)\n",
      "Requirement already satisfied: idna>=2.5 in /root/.local/share/virtualenvs/code-AFz48Hjb/lib/python3.8/site-packages (from hyperlink>=17.1.1->Twisted>=17.9.0->scrapy) (2.10)\n",
      "Requirement already satisfied: pycparser in /root/.local/share/virtualenvs/code-AFz48Hjb/lib/python3.8/site-packages (from cffi!=1.11.3,>=1.8->cryptography>=2.0->scrapy) (2.20)\n"
     ]
    }
   ],
   "source": [
    "!pip install scrapy"
   ]
  },
  {
   "cell_type": "code",
   "execution_count": 1,
   "metadata": {},
   "outputs": [],
   "source": [
    "import scrapy"
   ]
  },
  {
   "cell_type": "code",
   "execution_count": 2,
   "metadata": {},
   "outputs": [
    {
     "output_type": "stream",
     "name": "stdout",
     "text": [
      "New Scrapy project 'billboard', using template directory 'c:\\users\\adrie\\anaconda36\\lib\\site-packages\\scrapy\\templates\\project', created in:\n    d:\\GITHUB\\DataEngineer\\6Evaluation\\Projet\\billboard\n\nYou can start your first spider with:\n    cd billboard\n    scrapy genspider example example.com\n"
     ]
    }
   ],
   "source": [
    "!scrapy startproject billboard"
   ]
  },
  {
   "cell_type": "code",
   "execution_count": 3,
   "metadata": {},
   "outputs": [
    {
     "output_type": "stream",
     "name": "stdout",
     "text": [
      "Created spider 'billboard' using template 'basic' \n"
     ]
    }
   ],
   "source": [
    "!scrapy genspider billboard https://www.billboard.com/charts/billboard-200"
   ]
  },
  {
   "cell_type": "code",
   "execution_count": 6,
   "metadata": {},
   "outputs": [
    {
     "output_type": "stream",
     "name": "stdout",
     "text": [
      "Scrapy 2.4.0 - no active project\n\nUnknown command: crawl\n\nUse \"scrapy\" to see available commands\n"
     ]
    }
   ],
   "source": [
    "!scrapy crawl billboard"
   ]
  },
  {
   "cell_type": "code",
   "execution_count": 3,
   "metadata": {},
   "outputs": [
    {
     "output_type": "stream",
     "name": "stdout",
     "text": [
      "d:\\GITHUB\\BillboardGP\\6Evaluation\\Projet\\azlyrics.py already exists\n"
     ]
    }
   ],
   "source": [
    "!scrapy genspider azlyrics \"https://search.azlyrics.com/search.php?\""
   ]
  },
  {
   "cell_type": "code",
   "execution_count": null,
   "metadata": {},
   "outputs": [],
   "source": [
    "!scrapy crawl azlyrics"
   ]
  }
 ],
 "metadata": {
  "kernelspec": {
   "display_name": "Python 3",
   "language": "python",
   "name": "python3"
  },
  "language_info": {
   "codemirror_mode": {
    "name": "ipython",
    "version": 3
   },
   "file_extension": ".py",
   "mimetype": "text/x-python",
   "name": "python",
   "nbconvert_exporter": "python",
   "pygments_lexer": "ipython3",
   "version": "3.7.9-final"
  }
 },
 "nbformat": 4,
 "nbformat_minor": 2
}