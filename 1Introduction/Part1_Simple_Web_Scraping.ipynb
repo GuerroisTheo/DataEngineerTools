{
 "cells": [
  {
   "cell_type": "markdown",
   "metadata": {},
   "source": [
    "# Introduction"
   ]
  },
  {
   "cell_type": "markdown",
   "metadata": {},
   "source": [
    "Avant de commencer, parcourer le fichier README.rst"
   ]
  },
  {
   "cell_type": "markdown",
   "metadata": {},
   "source": [
    "# Requête HTTP "
   ]
  },
  {
   "cell_type": "markdown",
   "metadata": {},
   "source": [
    "Un requête HTTP est une requête basé sur le protocole TCP, elle fait partie de la couche application de la couche OSI. Elle permet d'accéder aux données mise à disposition sur une adresse IP (ou url résolue par un DNS) et un port. \n",
    "\n",
    "Les deux ports les plus utilisé dans le web sont le 80 pour les sites en HTTP et le 443 pour les sites en HTTPS. HTTPS est une variable du protocole HTTP basé sur le protocole TLS.\n",
    "\n",
    "Il existe de nombreux types de requêtes selon la convention `REST`: \n",
    "- GET\n",
    "- POST\n",
    "- PUT \n",
    "- DELETE\n",
    "- UPDATE.\n",
    "\n",
    "Dans notre cas nous allons utiliser la plupart du temps des GET et potentiellement des POST. \n",
    "- Le GET permet comme sont nom l'indique de récupérer des informations en fonction de certain paramètres. \n",
    "- Le POST nécéssite un envoie de données pour récupérer des données. Le body du post est, la plupart du temps, envoyé sous la forme d'un objet JSON.\n",
    "\n",
    "Ces requêtes encapsulent un certain nombre de paramètres qui permettent soient d'identifier une provenance et un utilisateur ou de réaliser différentes actions."
   ]
  },
  {
   "cell_type": "code",
   "execution_count": 1,
   "metadata": {},
   "outputs": [],
   "source": [
    "import requests"
   ]
  },
  {
   "cell_type": "code",
   "execution_count": 2,
   "metadata": {},
   "outputs": [
    {
     "output_type": "execute_result",
     "data": {
      "text/plain": [
       "200"
      ]
     },
     "metadata": {},
     "execution_count": 2
    }
   ],
   "source": [
    "url = \"http://www.esiee.fr/\"\n",
    "response = requests.get(url)\n",
    "response.status_code"
   ]
  },
  {
   "cell_type": "markdown",
   "metadata": {},
   "source": [
    "Il existe deux méthodes pour récupérer le contenu de la page :\n",
    "\n",
    "- `response.text` qui permet de retourner le texte sous la forme d'une chaine de charactères.\n",
    "- `response.content` qui permet de récupérer le contenu de la page sous la forme de bytes"
   ]
  },
  {
   "cell_type": "code",
   "execution_count": 3,
   "metadata": {},
   "outputs": [
    {
     "output_type": "execute_result",
     "data": {
      "text/plain": [
       "bytes"
      ]
     },
     "metadata": {},
     "execution_count": 3
    }
   ],
   "source": [
    "type(response.content)"
   ]
  },
  {
   "cell_type": "code",
   "execution_count": 4,
   "metadata": {},
   "outputs": [
    {
     "output_type": "execute_result",
     "data": {
      "text/plain": [
       "str"
      ]
     },
     "metadata": {},
     "execution_count": 4
    }
   ],
   "source": [
    "type(response.text)"
   ]
  },
  {
   "cell_type": "markdown",
   "metadata": {},
   "source": [
    "Pour récupérer les 1000 premiers charactères de la page :"
   ]
  },
  {
   "cell_type": "code",
   "execution_count": 5,
   "metadata": {},
   "outputs": [
    {
     "output_type": "execute_result",
     "data": {
      "text/plain": [
       "'<!DOCTYPE html>\\n<!--[if lt IE 7]>      <html class=\"no-js lt-ie9 lt-ie8 lt-ie7\"> <![endif]-->\\n<!--[if IE 7]>         <html class=\"no-js lt-ie9 lt-ie8\"> <![endif]-->\\n<!--[if IE 8]>         <html class=\"no-js lt-ie9\"> <![endif]-->\\n<!--[if IE 9]>         <html class=\"no-js ie9\"> <![endif]-->\\n<!--[if gt IE 9]><!--> <html class=\"no-js\"> <!--<![endif]-->\\n<head profile=\"http://www.w3.org/1999/xhtml/vocab\">\\n\\t<!-- Google Tag Manager -->\\n\\t<script>\\n\\t\\t(function(w,d,s,l,i){\\n\\t\\t\\tw[l]=w[l]||[];w[l].push({\\'gtm.start\\':new Date().getTime(),event:\\'gtm.js\\'});\\n\\t\\t\\tvar f=d.getElementsByTagName(s)[0],\\tj=d.createElement(s),dl=l!=\\'dataLayer\\'?\\'&l=\\'+l:\\'\\';\\n\\t\\t\\tj.async=true;\\n\\t\\t\\tj.src=\\'https://www.googletagmanager.com/gtm.js?id=\\'+i+dl;f.parentNode.insertBefore(j,f);\\n\\t\\t\\t}\\n\\t\\t)\\n\\t\\t(window,document,\\'script\\',\\'dataLayer\\',\\'GTM-MQF5LJB\\');\\n\\t</script>\\n\\t<!-- End Google Tag Manager -->\\n  <meta name=\"google-site-verification\" content=\"JnG7DTdhQuWTeSHlWC63CeWpb3WValiOorksYjoYOWI\" />\\n  <meta http-equiv=\"Content-Type\" content=\"text/ht'"
      ]
     },
     "metadata": {},
     "execution_count": 5
    }
   ],
   "source": [
    "response.text[0:1000]"
   ]
  },
  {
   "cell_type": "markdown",
   "metadata": {},
   "source": [
    "Pour récupérer les headers HTTP de la réponse :"
   ]
  },
  {
   "cell_type": "code",
   "execution_count": 6,
   "metadata": {},
   "outputs": [
    {
     "output_type": "execute_result",
     "data": {
      "text/plain": [
       "{'Date': 'Mon, 09 Nov 2020 15:44:35 GMT', 'Server': 'Apache/2.4.25 (Debian)', 'Expires': 'Sun, 19 Nov 1978 05:00:00 GMT', 'Cache-Control': 'no-cache, must-revalidate', 'X-Content-Type-Options': 'nosniff', 'Content-Language': 'fr', 'X-Frame-Options': 'SAMEORIGIN', 'X-Generator': 'Drupal 7 (http://drupal.org)', 'Vary': 'Accept-Encoding', 'Content-Encoding': 'gzip', 'Content-Length': '16066', 'Keep-Alive': 'timeout=5, max=150', 'Connection': 'Keep-Alive', 'Content-Type': 'text/html; charset=utf-8'}"
      ]
     },
     "metadata": {},
     "execution_count": 6
    }
   ],
   "source": [
    "response.headers"
   ]
  },
  {
   "cell_type": "markdown",
   "metadata": {},
   "source": [
    "On peut modifier les paramêtres de la requête et/ou ses headers. On peut par exemple ajouter un UserAgent et un timeout de 10 secondes:"
   ]
  },
  {
   "cell_type": "code",
   "execution_count": 7,
   "metadata": {},
   "outputs": [
    {
     "output_type": "execute_result",
     "data": {
      "text/plain": [
       "b'<!DOCTYPE html>\\n<!--[if lt IE 7]>      <html class=\"no-js lt-ie9 lt-ie8 lt-ie7\"> <![endif]-->\\n<!--[if IE 7]>         <html class=\"no-js lt-ie9 lt-ie8\"> <![endif]-->\\n<!--[if IE 8]>         <html class=\"no-js lt-ie9\"> <![endif]-->\\n<!--[if IE 9]>         <html class=\"no-js ie9\"> <![endif]-->\\n<!--[if gt IE 9]><!--> <html class=\"no-js\"> <!--<![endif]-->\\n<head profile=\"http://www.w3.org/1999/xhtml/vocab\">\\n\\t<!-- Google Tag Manager -->\\n\\t<script>\\n\\t\\t(function(w,d,s,l,i){\\n\\t\\t\\tw[l]=w[l]||[];w[l].push({\\'gtm.start\\':new Date().getTime(),event:\\'gtm.js\\'});\\n\\t\\t\\tvar f=d.getElementsByTagName(s)[0],\\tj=d.createElement(s),dl=l!=\\'dataLayer\\'?\\'&l=\\'+l:\\'\\';\\n\\t\\t\\tj.async=true;\\n\\t\\t\\tj.src=\\'https://www.googletagmanager.com/gtm.js?id=\\'+i+dl;f.parentNode.insertBefore(j,f);\\n\\t\\t\\t}\\n\\t\\t)\\n\\t\\t(window,document,\\'script\\',\\'dataLayer\\',\\'GTM-MQF5LJB\\');\\n\\t</script>\\n\\t<!-- End Google Tag Manager -->\\n  <meta name=\"google-site-verification\" content=\"JnG7DTdhQuWTeSHlWC63CeWpb3WValiOorksYjoYOWI\" />\\n  <meta http-equiv=\"Content-Type\" content=\"text/ht'"
      ]
     },
     "metadata": {},
     "execution_count": 7
    }
   ],
   "source": [
    "headers = {'User-Agent': 'Mozilla/5.0 (Macintosh; Intel Mac OS X 10_10_1) AppleWebKit/537.36 (KHTML, like Gecko) Chrome/39.0.2171.95 Safari/537.36'}\n",
    "response = requests.get(url, headers=headers, timeout = 10)\n",
    "response.content[0:1000]"
   ]
  },
  {
   "cell_type": "markdown",
   "metadata": {},
   "source": [
    "## Exercice"
   ]
  },
  {
   "cell_type": "markdown",
   "metadata": {},
   "source": [
    "## Exercice 1\n",
    "\n",
    "- Créer une classe Python permettant de faire des requêtes HTTP.\n",
    "- Cette classe doit utiliser toujours le même UserAgent.\n",
    "- Le TimeOut sera spécifié à chaque appelle avec une valeur par défaut.\n",
    "- Un mécanisme de retry sera mis en place de façon recursive.\n",
    "\n",
    "## Exercice 2\n",
    "\n",
    "- Faire une fonction permettant de supprimer tous les espaces supperflus d'une string\n",
    "- Faire une fonction qui prend une string html et renvois une string intelligible (enlever les caractères spéciaux,\n",
    "- Récupérer le domaine en fonction d'un url"
   ]
  },
  {
   "cell_type": "code",
   "execution_count": 8,
   "metadata": {},
   "outputs": [],
   "source": [
    "import re\n",
    "from urllib.parse import urlparse"
   ]
  },
  {
   "cell_type": "code",
   "execution_count": 9,
   "metadata": {},
   "outputs": [
    {
     "output_type": "stream",
     "name": "stdout",
     "text": [
      "www.esiee.fr\n"
     ]
    }
   ],
   "source": [
    "class request:\n",
    "    def __init__(self,url):\n",
    "        self.a_Url = url\n",
    "        self.a_UserAgent = {'User-Agent': 'Mozilla/5.0 (Macintosh; Intel Mac OS X 10_10_1) AppleWebKit/537.36 (KHTML, like Gecko) Chrome/39.0.2171.95 Safari/537.36'}\n",
    "        self.a_Response = None\n",
    "\n",
    "    def retry(self):\n",
    "        try:\n",
    "            self.a_Response = requests.get(url, headers=headers, timeout = 10)\n",
    "            #print(self.a_Response.content[0:1000])\n",
    "        except:\n",
    "            self.retry()\n",
    "\n",
    "    def supp_espace(self, p_str):\n",
    "        return re.sub(' +', ' ', str(p_str))\n",
    "\n",
    "    def caractereSpe(self, texte):\n",
    "        return re.sub('[^A-Za-z0-9]+', ' ', str(texte))\n",
    "\n",
    "    def domaine_url(self, url):\n",
    "        return urlparse(url).netloc\n",
    "        \n",
    "\n",
    "url = \"http://www.esiee.fr/\"\n",
    "req = request(url)\n",
    "req.retry()\n",
    "requestTest = req.a_Response.content[0:1000]\n",
    "# print(req.supp_espace(requestTest))\n",
    "# print(req.caractereSpe(requestTest))\n",
    "print(req.domaine_url(url))"
   ]
  },
  {
   "cell_type": "markdown",
   "metadata": {},
   "source": [
    "# Exploitation du HTML  "
   ]
  },
  {
   "cell_type": "markdown",
   "metadata": {},
   "source": [
    "Ici, il faut récupérer le code HTML d'un site web à partir d'une requête. Lorsque vous avez récupéré le texte d'un site il faut le parser. Pour cela, on utilise BeautifulSoup qui permet de transformer la structure HTML en objet Python. Cela permet de récupérer efficacement les données qui nous intéresse.\n",
    "\n",
    "Pour les webmasters, le blocage le plus souvent mis en place et un blocage sur le User-Agent. Le User-Agent est un paramètre intégré dans la requête HTTP réalisé par le Navigateur pour envoyer au front des informations basiques :\n",
    "\n",
    "- la version du Navigateur,\n",
    "- la version de l'OS\n",
    "- Le type de gestionnaire graphique (Gecko)\n",
    "- le type de device utilisé"
   ]
  },
  {
   "cell_type": "markdown",
   "metadata": {},
   "source": [
    "Exemple de User Agent :  \n",
    "\n",
    "`Mozilla/5.0 (Windows NT 6.1; Win64; x64; rv:47.0) Gecko/20100101 Firefox/47.0`"
   ]
  },
  {
   "cell_type": "markdown",
   "metadata": {},
   "source": [
    "Commençons à utiliser `BeautifulSoup`, pour l'installer : "
   ]
  },
  {
   "cell_type": "code",
   "execution_count": 10,
   "metadata": {},
   "outputs": [
    {
     "output_type": "stream",
     "name": "stdout",
     "text": [
      "Requirement already satisfied: bs4 in c:\\users\\theo\\anaconda3.1\\lib\\site-packages (0.0.1)\n",
      "Requirement already satisfied: beautifulsoup4 in c:\\users\\theo\\anaconda3.1\\lib\\site-packages (from bs4) (4.7.1)\n",
      "Requirement already satisfied: soupsieve>=1.2 in c:\\users\\theo\\anaconda3.1\\lib\\site-packages (from beautifulsoup4->bs4) (1.8)\n",
      "WARNING: You are using pip version 20.2.3; however, version 20.2.4 is available.\n",
      "You should consider upgrading via the 'c:\\users\\theo\\anaconda3.1\\python.exe -m pip install --upgrade pip' command.\n",
      "Requirement already satisfied: lxml in c:\\users\\theo\\anaconda3.1\\lib\\site-packages (4.3.2)\n",
      "WARNING: You are using pip version 20.2.3; however, version 20.2.4 is available.\n",
      "You should consider upgrading via the 'c:\\users\\theo\\anaconda3.1\\python.exe -m pip install --upgrade pip' command.\n"
     ]
    }
   ],
   "source": [
    "!pip install bs4\n",
    "!pip install  lxml"
   ]
  },
  {
   "cell_type": "code",
   "execution_count": 11,
   "metadata": {},
   "outputs": [],
   "source": [
    "import requests\n",
    "from bs4 import BeautifulSoup"
   ]
  },
  {
   "cell_type": "markdown",
   "metadata": {},
   "source": [
    "Pour transformer une requête (requests) en objet BeautifulSoup :"
   ]
  },
  {
   "cell_type": "code",
   "execution_count": 12,
   "metadata": {
    "tags": [
     "outputPrepend"
    ]
   },
   "outputs": [
    {
     "output_type": "stream",
     "name": "stdout",
     "text": [
      "tps://www.esiee.fr/fr/formations/ingenieur/filieres/systemes-embarques\">Systèmes embarqués</a>\n</span>\n<span class=\"slide-content-theme\">\n<a href=\"https://www.esiee.fr/fr/formations/ingenieur/ingenieur-esiee-paris\">Ingénieur</a>\n</span>\n<a class=\"slide-content-link is-uppercase\" href=\"https://www.esiee.fr/fr/formations/ingenieur/filieres/systemes-embarques\">Lire la suite</a></div>\n<div class=\"slide slide-content\">\n<div class=\"slide-content-img\">\n<a href=\"https://www.esiee.fr/fr/formations/ingenieur/filieres/systemes-electroniques\">\n<!-- scald=1972:skill_thumbnail --><img alt=\"Filière Systèmes électroniques\" height=\"125\" src=\"https://www.esiee.fr/sites/default/files/styles/skill/public/thumbnails/image/systemes-electroniques.jpg?itok=MNp66bp8\" title=\"Filière Systèmes électroniques\" width=\"207\"/><!-- END scald=1972 -->\n</a>\n</div>\n<span class=\"slide-content-info\">\n<a href=\"https://www.esiee.fr/fr/formations/ingenieur/filieres/systemes-electroniques\">Systèmes électroniques</a>\n</span>\n<span class=\"slide-content-theme\">\n<a href=\"https://www.esiee.fr/fr/formations/ingenieur/ingenieur-esiee-paris\">Ingénieur</a>\n</span>\n<a class=\"slide-content-link is-uppercase\" href=\"https://www.esiee.fr/fr/formations/ingenieur/filieres/systemes-electroniques\">Lire la suite</a></div>\n<div class=\"slide slide-content\">\n<div class=\"slide-content-img\">\n<a href=\"https://www.esiee.fr/fr/formations/ingenieur/filieres/biotechnologies-esante\">\n<!-- scald=201:skill_thumbnail --><img alt=\"Illustration Filière Biotechnologies et e-sante - Microscope\" height=\"125\" src=\"https://www.esiee.fr/sites/default/files/styles/skill/public/ill-fil-bio-11118cuwimages_cciparisidf.jpg?itok=pGETF_w_\" title=\"Illustration Filière Biotechnologies et e-sante - Microscope\" width=\"207\"/><!-- END scald=201 -->\n</a>\n</div>\n<span class=\"slide-content-info\">\n<a href=\"https://www.esiee.fr/fr/formations/ingenieur/filieres/biotechnologies-esante\">Biotechnologies et e-santé</a>\n</span>\n<span class=\"slide-content-theme\">\n<a href=\"https://www.esiee.fr/fr/formations/ingenieur/ingenieur-esiee-paris\">Ingénieur</a>\n</span>\n<a class=\"slide-content-link is-uppercase\" href=\"https://www.esiee.fr/fr/formations/ingenieur/filieres/biotechnologies-esante\">Lire la suite</a></div>\n<div class=\"slide slide-content\">\n<div class=\"slide-content-img\">\n<a href=\"https://www.esiee.fr/fr/formations/ingenieur/filieres/artificial-intelligence-cybersecurity\">\n<!-- scald=2665:skill_thumbnail --><img alt=\"Artificial intelligence and cybersecurity\" height=\"125\" src=\"https://www.esiee.fr/sites/default/files/styles/skill/public/thumbnails/image/illustration-filiere-artificial-intelligence-cybersecurite.jpg?itok=iDjgUoDI\" title=\"Artificial intelligence and cybersecurity\" width=\"207\"/><!-- END scald=2665 -->\n</a>\n</div>\n<span class=\"slide-content-info\">\n<a href=\"https://www.esiee.fr/fr/formations/ingenieur/filieres/artificial-intelligence-cybersecurity\">Artificial intelligence and cybersecurity</a>\n</span>\n<span class=\"slide-content-theme\">\n<a href=\"https://www.esiee.fr/fr/formations/ingenieur/ingenieur-esiee-paris\">Ingénieur</a>\n</span>\n<a class=\"slide-content-link is-uppercase\" href=\"https://www.esiee.fr/fr/formations/ingenieur/filieres/artificial-intelligence-cybersecurity\">Lire la suite</a></div>\n<div class=\"slide slide-content\">\n<div class=\"slide-content-img\">\n<a href=\"https://www.esiee.fr/fr/formations/ingenieur/filieres/genie-industriel\">\n<!-- scald=2351:skill_thumbnail --><img alt=\"Illustration Génie industriel\" height=\"125\" src=\"https://www.esiee.fr/sites/default/files/styles/skill/public/thumbnails/image/illustration-genie-industriel.jpg?itok=itTCYQO5\" title=\"Illustration Génie industriel\" width=\"207\"/><!-- END scald=2351 -->\n</a>\n</div>\n<span class=\"slide-content-info\">\n<a href=\"https://www.esiee.fr/fr/formations/ingenieur/filieres/genie-industriel\">Génie industriel</a>\n</span>\n<span class=\"slide-content-theme\">\n<a href=\"https://www.esiee.fr/fr/formations/ingenieur/ingenieur-esiee-paris\">Ingénieur</a>\n</span>\n<a class=\"slide-content-link is-uppercase\" href=\"https://www.esiee.fr/fr/formations/ingenieur/filieres/genie-industriel\">Lire la suite</a></div>\n<div class=\"slide slide-content\">\n<div class=\"slide-content-img\">\n<a href=\"https://www.esiee.fr/fr/formations/ingenieur/filieres/informatique\">\n<!-- scald=1971:skill_thumbnail --><img alt=\"Filière informatique ESIEE Paris\" height=\"125\" src=\"https://www.esiee.fr/sites/default/files/styles/skill/public/thumbnails/image/informatique.jpg?itok=GAlo4ZxJ\" title=\"Filière informatique ESIEE Paris\" width=\"207\"/><!-- END scald=1971 -->\n</a>\n</div>\n<span class=\"slide-content-info\">\n<a href=\"https://www.esiee.fr/fr/formations/ingenieur/filieres/informatique\">Informatique</a>\n</span>\n<span class=\"slide-content-theme\">\n<a href=\"https://www.esiee.fr/fr/formations/ingenieur/ingenieur-esiee-paris\">Ingénieur</a>\n</span>\n<a class=\"slide-content-link is-uppercase\" href=\"https://www.esiee.fr/fr/formations/ingenieur/filieres/informatique\">Lire la suite</a></div>\n<div class=\"slide slide-content\">\n<div class=\"slide-content-img\">\n<a href=\"https://www.esiee.fr/fr/formations/ingenieur/filieres/datascience-intelligence-artificielle\">\n<!-- scald=898:skill_thumbnail --><img alt=\"illustration-data-reseaux.jpg\" height=\"125\" src=\"https://www.esiee.fr/sites/default/files/styles/skill/public/illustration-data-reseaux.jpg?itok=6gaT9afn\" title=\"Data et réseaux\" width=\"207\"/><!-- END scald=898 -->\n</a>\n</div>\n<span class=\"slide-content-info\">\n<a href=\"https://www.esiee.fr/fr/formations/ingenieur/filieres/datascience-intelligence-artificielle\">Datascience et intelligence artificielle</a>\n</span>\n<span class=\"slide-content-theme\">\n<a href=\"https://www.esiee.fr/fr/formations/ingenieur/ingenieur-esiee-paris\">Ingénieur</a>\n</span>\n<a class=\"slide-content-link is-uppercase\" href=\"https://www.esiee.fr/fr/formations/ingenieur/filieres/datascience-intelligence-artificielle\">Lire la suite</a></div>\n<div class=\"slide slide-content\">\n<div class=\"slide-content-img\">\n<a href=\"https://www.esiee.fr/fr/formations/ingenieur/filieres/cybersecurite-systemes-information\">\n<!-- scald=1934:skill_thumbnail --><img alt=\"Cybersécurité des Systèmes d'information\" height=\"125\" src=\"https://www.esiee.fr/sites/default/files/styles/skill/public/thumbnails/image/illustration-cybersecurite_0.jpg?itok=vGyYPpHy\" title=\"Formation - Cybersécurité des Systèmes d'information\" width=\"207\"/><!-- END scald=1934 -->\n</a>\n</div>\n<span class=\"slide-content-info\">\n<a href=\"https://www.esiee.fr/fr/formations/ingenieur/filieres/cybersecurite-systemes-information\">Cybersécurité</a>\n</span>\n<span class=\"slide-content-theme\">\n<a href=\"https://www.esiee.fr/fr/formations/ingenieur/ingenieur-esiee-paris\">Ingénieur</a>\n</span>\n<a class=\"slide-content-link is-uppercase\" href=\"https://www.esiee.fr/fr/formations/ingenieur/filieres/cybersecurite-systemes-information\">Lire la suite</a></div>\n<div class=\"slide slide-content\">\n<div class=\"slide-content-img\">\n<a href=\"https://www.esiee.fr/fr/formations/ingenieur-par-apprentissage/informatique-et-applications\">\n<!-- scald=683:skill_thumbnail --><img alt=\"Réalité virtuelle ESIEE Paris\" height=\"125\" src=\"https://www.esiee.fr/sites/default/files/styles/skill/public/informatique.jpg?itok=evVe4QL_\" title=\"Réalité virtuelle ESIEE Paris\" width=\"207\"/><!-- END scald=683 -->\n</a>\n</div>\n<span class=\"slide-content-info\">\n<a href=\"https://www.esiee.fr/fr/formations/ingenieur-par-apprentissage/informatique-et-applications\">Informatique 3D</a>\n</span>\n<span class=\"slide-content-theme\">\n<a href=\"https://www.esiee.fr/fr/formations/ingenieur-par-apprentissage\">Ingénieur par apprentissage</a>\n</span>\n<a class=\"slide-content-link is-uppercase\" href=\"https://www.esiee.fr/fr/formations/ingenieur-par-apprentissage/informatique-et-applications\">Lire la suite</a></div>\n<div class=\"slide slide-content\">\n<div class=\"slide-content-img\">\n<a href=\"https://www.esiee.fr/fr/formations/ingenieur-par-apprentissage/reseaux-securite\">\n<!-- scald=2347:skill_thumbnail --><img alt=\"Illustration filière Réseaux et sécurité en apprentissage\" height=\"125\" src=\"https://www.esiee.fr/sites/default/files/styles/skill/public/thumbnails/image/illustration-filiere-reseaux-securite-apprentissage.jpg?itok=LvMebxMG\" title=\"Illustration filière Réseaux et sécurité en apprentissage\" width=\"207\"/><!-- END scald=2347 -->\n</a>\n</div>\n<span class=\"slide-content-info\">\n<a href=\"https://www.esiee.fr/fr/formations/ingenieur-par-apprentissage/reseaux-securite\">Réseaux et sécurité</a>\n</span>\n<span class=\"slide-content-theme\">\n<a href=\"https://www.esiee.fr/fr/formations/ingenieur-par-apprentissage\">Ingénieur par apprentissage</a>\n</span>\n<a class=\"slide-content-link is-uppercase\" href=\"https://www.esiee.fr/fr/formations/ingenieur-par-apprentissage/reseaux-securite\">Lire la suite</a></div>\n<div class=\"slide slide-content\">\n<div class=\"slide-content-img\">\n<a href=\"https://www.esiee.fr/fr/formations/ingenieur/filieres/energie\">\n<!-- scald=192:skill_thumbnail --><img alt=\"Illustration Filière Energie - Eolienne et Panneaux solaires\" height=\"125\" src=\"https://www.esiee.fr/sites/default/files/styles/skill/public/ill-fil-energies.jpg?itok=rl0sINUe\" title=\"Illustration Filière Energie - Eolienne et Panneaux solaires\" width=\"207\"/><!-- END scald=192 -->\n</a>\n</div>\n<span class=\"slide-content-info\">\n<a href=\"https://www.esiee.fr/fr/formations/ingenieur/filieres/energie\">Energie</a>\n</span>\n<span class=\"slide-content-theme\">\n<a href=\"https://www.esiee.fr/fr/formations/ingenieur/ingenieur-esiee-paris\">Ingénieur</a>\n</span>\n<a class=\"slide-content-link is-uppercase\" href=\"https://www.esiee.fr/fr/formations/ingenieur/filieres/energie\">Lire la suite</a></div>\n</div>\n<div class=\"responsive-slider-2-pagination\">\n<div class=\"responsive-slider-2-prev responsive-slider-2-nav\"></div>\n<div class=\"responsive-slider-2-pager\"></div>\n<div class=\"responsive-slider-2-next responsive-slider-2-nav active\"></div>\n</div>\n</div></div>\n</section>\n<footer>\n<div class=\"inner clearfix\">\n<div class=\"block block-bean\" id=\"block-bean-adresse-esiee-footer\">\n<div class=\"footer-col-1 pull-left\">\n<span class=\"footer-col-1-title\">ESIEE Paris</span>\n<p>2 boulevard Blaise Pascal<br/>Cité Descartes<br/>BP 99<br/>93162 Noisy-le-Grand Cedex</p><p>Tel : 01 45 92 65 00<br/> </p>\n</div></div>\n<div class=\"block block-esiee\" id=\"block-esiee-esiee-footer-menu\">\n<div class=\"footer-col-2 pull-left\">\n<ul class=\"menu-footer\"><li class=\"first leaf\"><a href=\"/fr/acces\">Plan d'accès</a></li>\n<li class=\"leaf\"><a href=\"/fr/presse\">Presse</a></li>\n<li class=\"leaf\"><a href=\"/fr/nous-rencontrer\">Nous rencontrer</a></li>\n<li class=\"leaf\"><a href=\"/fr/jour-des-projets\">Le Jour des Projets</a></li>\n<li class=\"leaf\"><a href=\"/fr/brochures\">Brochures</a></li>\n<li class=\"leaf\"><a href=\"/fr/videotheque\">Vidéothèque</a></li>\n<li class=\"leaf\"><a href=\"/fr/location-despaces\">Location d'espaces</a></li>\n<li class=\"leaf\"><a href=\"http://www.esiee.fr/fr/ecole/corps-enseignant/enseigner-a-esiee-paris\">Enseigner à ESIEE</a></li>\n<li class=\"leaf\"><a href=\"/fr/reseaux-sociaux\">Réseaux sociaux</a></li>\n<li class=\"leaf\"><a href=\"/fr/ecole/visite-virtuelle\">Visite virtuelle</a></li>\n<li class=\"leaf\"><a href=\"https://www.esiee.fr/fr/entreprises/recrutez-nos-etudiants/contactez-les-alumni\">Alumni</a></li>\n<li class=\"leaf\"><a href=\"/fr/mentions-legales\">Mentions Légales</a></li>\n<li class=\"leaf\"><a href=\"http://www.cci-paris-idf.fr/marches-publics-dematerialises-cci-paris-ile-de-france\">Marchés publics</a></li>\n<li class=\"last leaf\"><a href=\"/fr/plan-du-site\">Plan du site</a></li>\n</ul></div>\n<div class=\"clearfix\"></div></div>\n<div class=\"block block-esiee\" id=\"block-esiee-esiee-footer-contact\">\n<div class=\"pull-left\"><a class=\"footer-contact\" href=\"/fr/contact\">Contacter ESIEE Paris</a></div></div>\n<div class=\"block block-bean\" id=\"block-bean-footer-logo-partenaire\">\n<div class=\"pull-right logo-UnivGustaveEiffel\">\n<a href=\"https://www.univ-gustave-eiffel.fr\" target=\"_blank\">\n<div class=\"image\"><img alt=\"Membre fondateur Université Gustave Eiffel\" src=\"/sites/default/files/logo_membre_fondateur_univ_gustave_eiffel.png\" title=\"Membre fondateur Université Gustave Eiffel\"/></div>\n</a>\n</div>\n<div class=\"pull-right logo-cci\">\n<a href=\"http://www.cci-paris-idf.fr\" target=\"_blank\">\n<div class=\"image\"><img alt=\"logo-cci-paris.png\" src=\"https://www.esiee.fr/sites/default/files/logo-cci-paris.png\" title=\"logo-cci-paris.png\"/></div>\n</a></div>\n</div>\n</div>\n</footer>\n</div>\n<div class=\"toolbar toolbar-footer\" id=\"toolbar-footer\">\n<ul>\n<li class=\"\">\n<a href=\"https://www.facebook.com/esieeparis\" target=\"_blank\">\n<i class=\"fa fa-facebook\"></i>\n</a>\n</li>\n<li class=\"\">\n<a href=\"https://twitter.com/ESIEEPARIS\" target=\"_blank\">\n<i class=\"fa fa-twitter\"></i>\n</a>\n</li>\n<li class=\"\">\n<a href=\"https://www.linkedin.com/edu/school?id=20041&amp;trk=tyah&amp;trkInfo=idx%3A4-1-4%2CtarId%3A1425998561386%2Ctas%3Aesiee+paris\" target=\"_blank\">\n<i class=\"fa fa-linkedin\"></i>\n</a>\n</li>\n<li class=\"youtube\">\n<a href=\"http://www.youtube.com/esieeparis\" target=\"_blank\">\n<i class=\"fa fa-youtube\"></i>\n</a>\n</li>\n<li class=\"\">\n<a href=\"https://www.instagram.com/esieeparis/\" target=\"_blank\">\n<i class=\"fa fa-instagram\"></i>\n</a>\n</li>\n</ul>\n</div>\n<script type=\"text/javascript\">\n<!--//--><![CDATA[//><!--\nwindow.jQuery || document.write(\"<script src='/sites/all/modules/contrib/jquery_update/replace/jquery/1.10/jquery.min.js'>\\x3C/script>\")\n//--><!]]>\n</script>\n<script src=\"//code.jquery.com/jquery-1.10.2.min.js\" type=\"text/javascript\"></script>\n<script src=\"https://www.esiee.fr/sites/default/files/js/js_38VWQ3jjQx0wRFj7gkntZr077GgJoGn5nv3v05IeLLo.js\" type=\"text/javascript\"></script>\n<script src=\"https://www.esiee.fr/sites/default/files/js/js_-DBi72BBkS07mO2sU0Cs9m7v_qf0DaCcgVHrnEXxtcg.js\" type=\"text/javascript\"></script>\n<script src=\"https://www.esiee.fr/sites/default/files/js/js_ajcq4b424tCd76JV2fK93OSs1gAJefWX8KKKtAiej7w.js\" type=\"text/javascript\"></script>\n<script src=\"https://www.esiee.fr/sites/default/files/js/js_9dBVL7foQ3oZIqI3cQUZVjyhzR4X6s7iOTI9wXQ5v4w.js\" type=\"text/javascript\"></script>\n<script type=\"text/javascript\">\n<!--//--><![CDATA[//><!--\nfunction euCookieComplianceLoadScripts() {}\n//--><!]]>\n</script>\n<script type=\"text/javascript\">\n<!--//--><![CDATA[//><!--\nvar eu_cookie_compliance_cookie_name = \"\";\n//--><!]]>\n</script>\n<script src=\"https://www.esiee.fr/sites/default/files/js/js_gPqjYq7fqdMzw8-29XWQIVoDSWTmZCGy9OqaHppNxuQ.js\" type=\"text/javascript\"></script>\n<script type=\"text/javascript\">\n<!--//--><![CDATA[//><!--\n(function(i,s,o,g,r,a,m){i[\"GoogleAnalyticsObject\"]=r;i[r]=i[r]||function(){(i[r].q=i[r].q||[]).push(arguments)},i[r].l=1*new Date();a=s.createElement(o),m=s.getElementsByTagName(o)[0];a.async=1;a.src=g;m.parentNode.insertBefore(a,m)})(window,document,\"script\",\"//www.google-analytics.com/analytics.js\",\"ga\");ga(\"create\", \"UA-4033468-1\", {\"cookieDomain\":\"auto\"});ga(\"send\", \"pageview\");\n//--><!]]>\n</script>\n<script src=\"https://www.esiee.fr/sites/default/files/js/js_OsAg78UG2iuku7zfmjPTt17v-frHcMfBCRHX_V7u2r0.js\" type=\"text/javascript\"></script>\n<script src=\"https://www.esiee.fr/sites/default/files/js/js_oIT1WwxI45wl5g4GZuNs1SIqpbrh17TrxFFbRaho-JA.js\" type=\"text/javascript\"></script>\n<script src=\"https://www.esiee.fr/sites/default/files/js/js_Fhcne43CRb2Qha8BQKCjkE5JeMUsvrY9e-oObBYXEZo.js\" type=\"text/javascript\"></script>\n<script type=\"text/javascript\">\n<!--//--><![CDATA[//><!--\njQuery.extend(Drupal.settings, {\"basePath\":\"\\/\",\"pathPrefix\":\"fr\\/\",\"ajaxPageState\":{\"theme\":\"esiee_theme\",\"theme_token\":\"gxKo_-ZEhDazvVaDHj5tXBlT6NmFXG2z-wGxoFmkgDs\"},\"googleCSE\":{\"cx\":\"\",\"language\":\"\",\"resultsWidth\":600,\"domain\":\"www.google.com\"},\"scaldFile\":{\"path\":\"sites\\/all\\/modules\\/contrib\\/scald_file\\/scald_file.css\"},\"urlIsAjaxTrusted\":{\"\\/\":true},\"eu_cookie_compliance\":{\"popup_enabled\":1,\"popup_agreed_enabled\":0,\"popup_hide_agreed\":0,\"popup_clicking_confirmation\":false,\"popup_scrolling_confirmation\":false,\"popup_html_info\":\"\\u003Cdiv\\u003E\\n  \\u003Cdiv class =\\u0022custom-cookie-popup popup-content info\\u0022\\u003E\\n    \\u003Cdiv id=\\u0022popup-text\\u0022\\u003E\\n      \\u003Cp\\u003EEn naviguant sur notre site, vous acceptez l\\u0026#39;utilisation de cookies pour vous proposer une navigation optimale et nous permettre de r\\u00e9aliser des statistiques de visites. Pour en savoir plus et param\\u00e9trer les cookies, visiter \\u003Ca href=\\u0022\\/fr\\/mentions-legales\\u0022\\u003Ela page des mentions l\\u00e9gales de ESIEE Paris\\u003C\\/a\\u003E\\u003C\\/p\\u003E    \\u003C\\/div\\u003E\\n    \\u003Cdiv id=\\u0022popup-buttons\\u0022\\u003E\\n      \\u003Cbutton type=\\u0022button\\u0022 class=\\u0022agree-button\\u0022\\u003EAccepter\\u003C\\/button\\u003E\\n    \\u003C\\/div\\u003E\\n  \\u003C\\/div\\u003E\\n\\u003C\\/div\\u003E\",\"use_mobile_message\":false,\"mobile_popup_html_info\":\"\\u003Cdiv\\u003E\\n  \\u003Cdiv class =\\u0022custom-cookie-popup popup-content info\\u0022\\u003E\\n    \\u003Cdiv id=\\u0022popup-text\\u0022\\u003E\\n          \\u003C\\/div\\u003E\\n    \\u003Cdiv id=\\u0022popup-buttons\\u0022\\u003E\\n      \\u003Cbutton type=\\u0022button\\u0022 class=\\u0022agree-button\\u0022\\u003EAccepter\\u003C\\/button\\u003E\\n    \\u003C\\/div\\u003E\\n  \\u003C\\/div\\u003E\\n\\u003C\\/div\\u003E\\n\",\"mobile_breakpoint\":\"768\",\"popup_html_agreed\":\"\\u003Cdiv\\u003E\\r\\n  \\u003Cdiv class=\\u0022popup-content agreed\\u0022\\u003E\\r\\n    \\u003Cdiv id=\\u0022popup-text\\u0022\\u003E\\r\\n      \\u003Ch2\\u003EThank you for accepting cookies\\u003C\\/h2\\u003E\\u003Cp\\u003EYou can now hide this message or find out more about cookies.\\u003C\\/p\\u003E    \\u003C\\/div\\u003E\\r\\n    \\u003Cdiv id=\\u0022popup-buttons\\u0022\\u003E\\r\\n      \\u003Cbutton type=\\u0022button\\u0022 class=\\u0022hide-popup-button eu-cookie-compliance-hide-button\\u0022\\u003EMasquer\\u003C\\/button\\u003E\\r\\n              \\u003Cbutton type=\\u0022button\\u0022 class=\\u0022find-more-button eu-cookie-compliance-more-button-thank-you\\u0022 \\u003EMore info\\u003C\\/button\\u003E\\r\\n          \\u003C\\/div\\u003E\\r\\n  \\u003C\\/div\\u003E\\r\\n\\u003C\\/div\\u003E\",\"popup_use_bare_css\":1,\"popup_height\":\"auto\",\"popup_width\":0,\"popup_delay\":1000,\"popup_link\":\"\\/fr\\/fr\\/mentions-legales\",\"popup_link_new_window\":1,\"popup_position\":null,\"popup_language\":\"fr\",\"store_consent\":false,\"better_support_for_screen_readers\":0,\"reload_page\":0,\"domain\":\"\",\"popup_eu_only_js\":0,\"cookie_lifetime\":\"100\",\"cookie_session\":false,\"disagree_do_not_show_popup\":0,\"method\":\"opt_in\",\"whitelisted_cookies\":\"\",\"withdraw_markup\":\"\\u003Cbutton type=\\u0022button\\u0022 class=\\u0022eu-cookie-withdraw-tab\\u0022\\u003EPrivacy settings\\u003C\\/button\\u003E\\r\\n\\u003Cdiv class=\\u0022eu-cookie-withdraw-banner\\u0022\\u003E\\r\\n  \\u003Cdiv class=\\u0022popup-content info\\u0022\\u003E\\r\\n    \\u003Cdiv id=\\u0022popup-text\\u0022\\u003E\\r\\n      \\u003Ch2\\u003EWe use cookies on this site to enhance your user experience\\u003C\\/h2\\u003E\\u003Cp\\u003EYou have given your consent for us to set cookies.\\u003C\\/p\\u003E    \\u003C\\/div\\u003E\\r\\n    \\u003Cdiv id=\\u0022popup-buttons\\u0022\\u003E\\r\\n      \\u003Cbutton type=\\u0022button\\u0022 class=\\u0022eu-cookie-withdraw-button\\u0022\\u003EWithdraw consent\\u003C\\/button\\u003E\\r\\n    \\u003C\\/div\\u003E\\r\\n  \\u003C\\/div\\u003E\\r\\n\\u003C\\/div\\u003E\\r\\n\",\"withdraw_enabled\":false},\"googleanalytics\":{\"trackOutbound\":1,\"trackMailto\":1,\"trackDownload\":1,\"trackDownloadExtensions\":\"7z|aac|arc|arj|asf|asx|avi|bin|csv|doc(x|m)?|dot(x|m)?|exe|flv|gif|gz|gzip|hqx|jar|jpe?g|js|mp(2|3|4|e?g)|mov(ie)?|msi|msp|pdf|phps|png|ppt(x|m)?|pot(x|m)?|pps(x|m)?|ppam|sld(x|m)?|thmx|qtm?|ra(m|r)?|sea|sit|tar|tgz|torrent|txt|wav|wma|wmv|wpd|xls(x|m|b)?|xlt(x|m)|xlam|xml|z|zip\"},\"esiee_sliders\":{\"training_duration\":\"4\",\"training_auto\":1,\"promotion_duration\":\"2\"},\"esiee_scholarship\":{\"max_80\":4000,\"quotient_80\":60,\"min_60\":4001,\"max_60\":7000,\"quotient_60\":40,\"min_40\":7001,\"max_40\":15000,\"quotient_40\":20,\"min_20\":15001,\"max_20\":99999999999,\"quotient_20\":0},\"esiee_theme\":{\"trail\":[]}});\n//--><!]]>\n</script>\n<script src=\"https://code.jquery.com/jquery-migrate-1.2.1.js\"></script>\n</body>\n</html>\n"
     ]
    }
   ],
   "source": [
    "response = requests.get(url)\n",
    "soup = BeautifulSoup(response.text)\n",
    "print(soup)"
   ]
  },
  {
   "cell_type": "markdown",
   "metadata": {},
   "source": [
    "Il se peut qu'un message d'erreur arrive à ce point là si vous n'avez pas la librarie `lxml` installée, pour se faire vous avez juste à lancer la commande suivante : "
   ]
  },
  {
   "cell_type": "code",
   "execution_count": 13,
   "metadata": {},
   "outputs": [
    {
     "output_type": "stream",
     "name": "stdout",
     "text": [
      "Requirement already satisfied: lxml in c:\\users\\theo\\anaconda3.1\\lib\\site-packages (4.3.2)\n",
      "WARNING: You are using pip version 20.2.3; however, version 20.2.4 is available.\n",
      "You should consider upgrading via the 'c:\\users\\theo\\anaconda3.1\\python.exe -m pip install --upgrade pip' command.\n"
     ]
    }
   ],
   "source": [
    "!pip install lxml"
   ]
  },
  {
   "cell_type": "markdown",
   "metadata": {},
   "source": [
    "Pour trouver tous les liens d'une page on récupère la balise `a` qui permet de gérer les liens en HTML  :"
   ]
  },
  {
   "cell_type": "code",
   "execution_count": 14,
   "metadata": {},
   "outputs": [
    {
     "output_type": "execute_result",
     "data": {
      "text/plain": [
       "[<a href=\"#\">\n",
       " <i class=\"icon-parametres\"></i>\n",
       " </a>,\n",
       " <a href=\"https://gmail.com\" target=\"_blank\" title=\"Webmail ESIEE Paris\"><i><img alt=\"\" src=\"https://www.esiee.fr/sites/default/files/menu_icons/menu_icon_950.png\"/> </i><span>Webmail ESIEE Paris</span></a>,\n",
       " <a href=\"https://planif.esiee.fr/direct/\" target=\"_blank\" title=\"Emploi du temps général\"><i><img alt=\"\" src=\"https://www.esiee.fr/sites/default/files/menu_icons/menu_icon_1331.png\"/> </i><span>Emploi du temps général</span></a>,\n",
       " <a href=\"https://planif.esiee.fr/jsp/custom/esiee/easyMyPlanning.jsp\" target=\"_blank\" title=\"Emploi du temps individuel\"><i><img alt=\"\" src=\"https://www.esiee.fr/sites/default/files/menu_icons/menu_icon_1332.png\"/> </i><span>Emploi du temps individuel</span></a>,\n",
       " <a href=\"https://intra.esiee.fr\" target=\"_blank\" title=\"Extranet\"><i><img alt=\"\" src=\"https://www.esiee.fr/sites/default/files/menu_icons/menu_icon_951.png\"/> </i><span>Extranet</span></a>,\n",
       " <a href=\"https://esiee.blackboard.com\" target=\"_blank\" title=\"iCampus\"><i><img alt=\"\" src=\"https://www.esiee.fr/sites/default/files/menu_icons/menu_icon_1311.png\"/> </i><span>iCampus</span></a>,\n",
       " <a href=\"http://e5.onthehub.com/WebStore/Welcome.aspx?vsro=8&amp;ws=45AD823E-799B-E011-969D-0030487D8897&amp;JSEnabled=1\" target=\"_blank\" title=\"Microsoft DreamSpark\"><i><img alt=\"\" src=\"https://www.esiee.fr/sites/default/files/menu_icons/menu_icon_1696.png\"/> </i><span>Microsoft DreamSpark</span></a>,\n",
       " <a href=\"/en\">\n",
       " <i>\n",
       " <img alt=\"English\" src=\"/sites/all/themes/custom/esiee_theme/assets/images/flag-en.png\"/>\n",
       " </i>\n",
       " </a>,\n",
       " <a href=\"https://www.facebook.com/esieeparis\" target=\"_blank\">\n",
       " <i class=\"fa fa-facebook\"></i>\n",
       " </a>,\n",
       " <a href=\"https://twitter.com/ESIEEPARIS\" target=\"_blank\">\n",
       " <i class=\"fa fa-twitter\"></i>\n",
       " </a>]"
      ]
     },
     "metadata": {},
     "execution_count": 14
    }
   ],
   "source": [
    "soup.find_all(\"a\")[0:10]"
   ]
  },
  {
   "cell_type": "markdown",
   "metadata": {},
   "source": [
    "On peut préciser la classe HTML voulue  pour l'ensemble des `a`:\n",
    "\n",
    "```python\n",
    "soup.find_all(class_=\"<CLASS_NAME>\")[0:10]\n",
    "```\n",
    "\n",
    "Ici par exemple: "
   ]
  },
  {
   "cell_type": "code",
   "execution_count": 15,
   "metadata": {},
   "outputs": [
    {
     "output_type": "execute_result",
     "data": {
      "text/plain": [
       "[<div class=\"slide slide-content\">\n",
       " <span class=\"slide-content-date inline-block\"><span class=\"date-display-single\">30.10.2020</span></span>\n",
       " <span class=\"slide-content-theme inline-block is-uppercase\">Actualités</span>\n",
       " <div class=\"clearfix\"></div>\n",
       " <div class=\"slide-content-img pull-left\"><!-- scald=2641:news_thumbnail --><img alt=\"Informations Coronavirus\" height=\"90\" src=\"https://www.esiee.fr/sites/default/files/styles/news/public/thumbnails/image/informations-coronavirus.jpg?itok=YDDYw-dy\" title=\"Informations Coronavirus\" width=\"120\"/><!-- END scald=2641 --></div>\n",
       " <span class=\"slide-content-title\"><a class=\"is-uppercase\" href=\"/fr/actualite/information-coronavirus\">Dernières informations Covid-19</a></span>\n",
       " <div class=\"clearfix\"></div>\n",
       " <p class=\"slide-content-desc\">Cette page a pour objectif de vous informer en temps réel des mesures prises par l’école dans le cadre de la situation exceptionnelle dûe à l'épidémie du Coronavirus.</p> </div>,\n",
       " <div class=\"slide slide-content\">\n",
       " <span class=\"slide-content-date inline-block\"><span class=\"date-display-single\">03.11.2020</span></span>\n",
       " <span class=\"slide-content-theme inline-block is-uppercase\">Concours</span>\n",
       " <div class=\"clearfix\"></div>\n",
       " <div class=\"slide-content-img pull-left\"><!-- scald=2697:news_thumbnail --><img alt=\"iCAN 2020\" height=\"90\" src=\"https://www.esiee.fr/sites/default/files/styles/news/public/thumbnails/image/visuel-ican-2020-web.png?itok=OSNMiqc4\" title=\"iCAN 2020\" width=\"120\"/><!-- END scald=2697 --></div>\n",
       " <span class=\"slide-content-title\"><a class=\"is-uppercase\" href=\"/fr/actualite/concours-ican-2020\">Des étudiants ESIEE Paris remportent le 1er prix du concours international iCAN</a></span>\n",
       " <div class=\"clearfix\"></div>\n",
       " <p class=\"slide-content-desc\">Bravo à Kathyna, Yasmine, Davina, et Gabin qui remportent le premier prix du Concours international “iCan 2020”.</p> </div>,\n",
       " <div class=\"slide slide-content\">\n",
       " <span class=\"slide-content-date inline-block\"><span class=\"date-display-single\">19.10.2020</span></span>\n",
       " <span class=\"slide-content-theme inline-block is-uppercase\">Actualités</span>\n",
       " <div class=\"clearfix\"></div>\n",
       " <div class=\"slide-content-img pull-left\"><!-- scald=2680:news_thumbnail --><img alt=\"Hommage à Samuel Paty\" height=\"90\" src=\"https://www.esiee.fr/sites/default/files/styles/news/public/thumbnails/image/samuel_paty.jpg?itok=coQjCfWX\" title=\"Hommage à Samuel Paty\" width=\"120\"/><!-- END scald=2680 --></div>\n",
       " <span class=\"slide-content-title\"><a class=\"is-uppercase\" href=\"/fr/esiee-paris-sassocie-%C3%A0-lhommage-national-%C3%A0-samuel-paty\">ESIEE Paris s'associe à l'hommage national à Samuel Paty</a></span>\n",
       " <div class=\"clearfix\"></div>\n",
       " <p class=\"slide-content-desc\">ESIEE Paris s'associe à l'hommage national à Samuel Paty</p> </div>,\n",
       " <div class=\"slide slide-content\">\n",
       " <span class=\"slide-content-date inline-block\"><span class=\"date-display-single\">08.10.2020</span></span>\n",
       " <span class=\"slide-content-theme inline-block is-uppercase\">Challenge</span>\n",
       " <div class=\"clearfix\"></div>\n",
       " <div class=\"slide-content-img pull-left\"></div>\n",
       " <span class=\"slide-content-title\"><a class=\"is-uppercase\" href=\"/fr/actualite/challenge-brigitte-friang-2020-dgse-esiee\">La DGSE et ESIEE Paris organisent le challenge Cybersécurité Brigitte Friang</a></span>\n",
       " <div class=\"clearfix\"></div>\n",
       " <p class=\"slide-content-desc\">Du 24 octobre au 11 novembre 2020, la DGSE et ESIEE Paris organisent le challenge Cybersécurité Brigitte Friang.</p> </div>,\n",
       " <div class=\"slide slide-content\">\n",
       " <span class=\"slide-content-date inline-block\"><span class=\"date-display-single\">27.10.2020</span></span>\n",
       " <span class=\"slide-content-theme inline-block is-uppercase\">Evènements</span>\n",
       " <div class=\"clearfix\"></div>\n",
       " <div class=\"slide-content-img pull-left\"><!-- scald=2691:news_thumbnail --><img alt=\"Forum Descartes 2020\" height=\"90\" src=\"https://www.esiee.fr/sites/default/files/styles/news/public/thumbnails/image/bandeaulinkedin_2020.jpg?itok=EZIG7QEk\" title=\"Forum Descartes 2020\" width=\"120\"/><!-- END scald=2691 --></div>\n",
       " <span class=\"slide-content-title\"><a class=\"is-uppercase\" href=\"/fr/actualite/forum-descartes-2020\">Forum Descartes 2020 : une édition 100% numérique et interactive</a></span>\n",
       " <div class=\"clearfix\"></div>\n",
       " <p class=\"slide-content-desc\">Le Forum Descartes est de retour du jeudi 19 au vendredi 27 novembre 2020.</p> </div>]"
      ]
     },
     "metadata": {},
     "execution_count": 15
    }
   ],
   "source": [
    "soup.find_all(class_=\"slide\")[0:5]"
   ]
  },
  {
   "cell_type": "markdown",
   "metadata": {},
   "source": [
    "Pour récupérer le text sans les balises HTML :"
   ]
  },
  {
   "cell_type": "code",
   "execution_count": 16,
   "metadata": {},
   "outputs": [
    {
     "output_type": "execute_result",
     "data": {
      "text/plain": [
       "\" \\n\\n\\n\\n\\t\\t(function(w,d,s,l,i){\\n\\t\\t\\tw[l]=w[l]||[];w[l].push({'gtm.start':new Date().getTime(),event:'gtm.js'});\\n\\t\\t\\tvar f=d.getElementsByTagName(s)[0],\\tj=d.createElement(s),dl=l!='dataLayer'?'&l='+l:'';\\n\\t\\t\\tj.async=true;\\n\\t\\t\\tj.src='https://www.googletagmanager.com/gtm.js?id='+i+dl;f.parentNode.insertBefore(j,f);\\n\\t\\t\\t}\\n\\t\\t)\\n\\t\\t(window,document,'script','dataLayer','GTM-MQF5LJB');\\n\\t\\n\\n\\n\\n\\n\\n\\nESIEE Paris, l’école de l’innovation technologique | Grande école d’ingénieurs | ESIEE Paris\\n\\n\\n\\n\\n\\n\\n\\n\\n\\n\\n\\n\\n\\n\\n\\n \\n\\n\\n\\n\\n\\n\\n\\n\\n\\n\\n\\nLes outils ESIEE Paris Webmail ESIEE Paris Emploi du temps général Emploi du temps individuel Extranet iCampus Microsoft DreamSpark \\n\\n\\n\\n\\n\\n\\n\\n\\n\\n\\n\\n\\n\\n\\n\\n\\n\\n\\n\\n\\n\\n\\n\\n\\n\\n\\n\\n\\n\\n\\n\\n\\n\\n\\n\\n\\n\\n\\n\\n\\n\\n\\n\\n\\n\\n\\n menu\\nFormations\\n\\n\\nRETOUR menu\\nFormations ESIEE ParisIngénieur\\n\\n\\nIngénieur\\nRETOUR Formations\\nIngénieur ESIEE ParisPremier cycleLe cycle ingénieur\\n\\n\\nLe cycle ingénieur\\nRETOUR Ingénieur\\nLe cycle ingénieur ESIEE ParisEnseignements de 1ère annéeEnseignements de 2e et 3e annéeProfils métiersFilières\\n\\n\\nFilières\\nRETOUR Ingéni\""
      ]
     },
     "metadata": {},
     "execution_count": 16
    }
   ],
   "source": [
    "soup.text[0:1000]"
   ]
  },
  {
   "source": [
    "## Exercice\n",
    "### Exercice 3\n",
    "\n",
    "Améliorer la classe développé précédemment.\n",
    "\n",
    "- Ajouter une méthode pour récupérer l'objet soup d'un url\n",
    "- Récupérer une liste de User Agent et effectuer une rotation aléatoire sur celui à utiliser\n",
    "- Utiliser cette classe pour parser une page HTML et récupérer : le titre, tous les H1 (si ils existent), les liens vers les images, les liens sortants vers d'autres sites, et le texte principal.\n",
    "\n",
    "Parsing d'un sitemaps pour récupérer une listes de liens avec les informations disponibles. -> Stocker dans un dictionnaire et dans un fichier JSON local."
   ],
   "cell_type": "markdown",
   "metadata": {}
  },
  {
   "cell_type": "code",
   "execution_count": 23,
   "metadata": {},
   "outputs": [],
   "source": [
    "import random\n",
    "\n",
    "class request:\n",
    "    def __init__(self, url):\n",
    "        self.a_listUser = [\"Mozilla/5.0 (Windows NT 6.1) AppleWebKit/537.36 (KHTML, like Gecko) Chrome/41.0.2228.0 Safari/537.36\",\n",
    "            \"Mozilla/5.0 (Macintosh; Intel Mac OS X 10_10_1) AppleWebKit/537.36 (KHTML, like Gecko) Chrome/41.0.2227.1 Safari/537.36\",\n",
    "            \"Mozilla/5.0 (X11; Linux x86_64) AppleWebKit/537.36 (KHTML, like Gecko) Chrome/41.0.2227.0 Safari/537.36\",\n",
    "            \"Mozilla/5.0 (Windows NT 6.1; WOW64) AppleWebKit/537.36 (KHTML, like Gecko) Chrome/41.0.2227.0 Safari/537.36\",\n",
    "            \"Mozilla/5.0 (Windows NT 6.3; WOW64) AppleWebKit/537.36 (KHTML, like Gecko) Chrome/41.0.2226.0 Safari/537.36\",\n",
    "            \"Mozilla/5.0 (Windows NT 6.4; WOW64) AppleWebKit/537.36 (KHTML, like Gecko) Chrome/41.0.2225.0 Safari/537.36\",\n",
    "            \"Mozilla/5.0 (Windows NT 6.3; WOW64) AppleWebKit/537.36 (KHTML, like Gecko) Chrome/41.0.2225.0 Safari/537.36\",\n",
    "            \"Mozilla/5.0 (Windows NT 5.1) AppleWebKit/537.36 (KHTML, like Gecko) Chrome/41.0.2224.3 Safari/537.36\",\n",
    "            \"Mozilla/5.0 (Windows NT 10.0) AppleWebKit/537.36 (KHTML, like Gecko) Chrome/40.0.2214.93 Safari/537.36\",\n",
    "            \"Mozilla/5.0 (Macintosh; Intel Mac OS X 10_10_1) AppleWebKit/537.36 (KHTML, like Gecko) Chrome/37.0.2062.124 Safari/537.36\",\n",
    "            \"Mozilla/5.0 (Windows NT 6.3; Win64; x64) AppleWebKit/537.36 (KHTML, like Gecko) Chrome/37.0.2049.0 Safari/537.36\",\n",
    "            \"Mozilla/5.0 (Windows NT 4.0; WOW64) AppleWebKit/537.36 (KHTML, like Gecko) Chrome/37.0.2049.0 Safari/537.36\",\n",
    "            \"Mozilla/5.0 (Windows NT 6.1; WOW64) AppleWebKit/537.36 (KHTML, like Gecko) Chrome/36.0.1985.67 Safari/537.36\",\n",
    "            \"Mozilla/5.0 (Windows NT 5.1) AppleWebKit/537.36 (KHTML, like Gecko) Chrome/36.0.1985.67 Safari/537.36\",\n",
    "            \"Mozilla/5.0 (X11; OpenBSD i386) AppleWebKit/537.36 (KHTML, like Gecko) Chrome/36.0.1985.125 Safari/537.36\"\n",
    "        ]\n",
    "\n",
    "        self.headers = {'User-Agent': random.choice(self.a_listUser)}\n",
    "\n",
    "        self.a_url = url\n",
    "\n",
    "\n",
    "    def get_request(self,trytime,timeout = 10):\n",
    "        if trytime is not 0:\n",
    "            try:\n",
    "                response = requests.get(url, headers=headers, timeout = timeout)\n",
    "                return response\n",
    "            except:\n",
    "                self.get_request(trytime-1)\n",
    "        else:\n",
    "            return -1\n",
    "\n",
    "\n",
    "\n",
    "\n",
    "\n",
    "\n",
    "\n",
    "\n",
    "\n",
    "\n",
    "\n",
    "\n",
    "\n",
    "\n",
    "        self.a_UserAgent = {'User-Agent': 'Mozilla/5.0 (Macintosh; Intel Mac OS X 10_10_1) AppleWebKit/537.36 (KHTML, like Gecko) Chrome/39.0.2171.95 Safari/537.36'}\n",
    "        self.a_Response = None\n",
    "\n",
    "    \n",
    "\n",
    "    def soupsoup(self):\n",
    "        return BeautifulSoup(self.a_Response.text)\n",
    "\n",
    "    def supp_espace(self, p_str):\n",
    "        return re.sub(' +', ' ', str(p_str))\n",
    "\n",
    "    def UserAgent(self):\n",
    "         self.a_UserAgent = {'User-Agent': listUser[random.randint(0,14)]}\n",
    "\n",
    "    def caractereSpe(self, texte):\n",
    "        return re.sub('[^A-Za-z0-9]+', ' ', str(texte))\n",
    "\n",
    "    def domaine_url(self, url):\n",
    "        return urlparse(url).netloc\n",
    "        \n",
    "\n",
    "url = \"http://www.esiee.fr/\"\n",
    "req = request()\n",
    "req.UserAgent()\n",
    "req.retry(50)\n",
    "# req.soupsoup()\n",
    "# requestTest = req.a_Response.content[0:1000]\n",
    "# req.supp_espace(requestTest)\n",
    "# req.caractereSpe(requestTest)\n",
    "# req.domaine_url(url)"
   ]
  },
  {
   "cell_type": "code",
   "execution_count": 25,
   "metadata": {},
   "outputs": [
    {
     "output_type": "stream",
     "name": "stdout",
     "text": [
      "None\nwww.esiee.fr\n"
     ]
    }
   ],
   "source": [
    "class request:\n",
    "    def __init__(self,url):\n",
    "        self.a_UserAgent = {'User-Agent': 'Mozilla/5.0 (Macintosh; Intel Mac OS X 10_10_1) AppleWebKit/537.36 (KHTML, like Gecko) Chrome/39.0.2171.95 Safari/537.36'}\n",
    "        self.a_Response = None\n",
    "\n",
    "    def retry(self):\n",
    "        try:\n",
    "            self.a_Response = requests.get(url, headers=self.a_UserAgent, timeout = 10)\n",
    "            #print(self.a_Response.content[0:1000])\n",
    "        except:\n",
    "            self.retry()\n",
    "\n",
    "    def supp_espace(self, p_str):\n",
    "        return re.sub(' +', ' ', str(p_str))\n",
    "\n",
    "    def caractereSpe(self, texte):\n",
    "        return re.sub('[^A-Za-z0-9]+', ' ', str(texte))\n",
    "\n",
    "    def domaine_url(self, url):\n",
    "        return urlparse(url).netloc\n",
    "        \n",
    "\n",
    "url = \"http://www.esiee.fr/\"\n",
    "req = request(url)\n",
    "print(req.retry())\n",
    "requestTest = req.a_Response.content[0:1000]\n",
    "# print(req.supp_espace(requestTest))\n",
    "# print(req.caractereSpe(requestTest))\n",
    "print(req.domaine_url(url))"
   ]
  },
  {
   "cell_type": "markdown",
   "metadata": {},
   "source": [
    "# Exploitation des appels d'API\n"
   ]
  },
  {
   "cell_type": "markdown",
   "metadata": {},
   "source": [
    "\n",
    "Losque le front du site récupère des données sur une API géré par le back, un appel d'API est réalisé. Cet appel est recensé dans les appels réseaux. Il est alors possible de re-jouer cet appel pour récupérer à nouveau les données. Il est très facile de récupérer ces appels dans l'onglet Network de la console développeur de Chrome ou FireFox. La console vous permet de copier le code CURL pour effectuée et vous pouvez ensuite la transformer en code Python depuis le site https://curl.trillworks.com/.\n",
    "\n",
    "Souvent les APIs sont bloquées avec certain paramètres. L'API verifie que dans les headers de la requêtes HTTP ces paramètres sont présents : * un token généré à la volée avec des protocole OAuth2 (ou moins développés). * un referer provenant du site web (la source de la requête), très facile à falsifier.\n",
    "\n"
   ]
  },
  {
   "cell_type": "markdown",
   "metadata": {},
   "source": [
    "## Exercice \n",
    "### Exercice 4\n",
    "\n",
    "- Utiliser les informations développées plus haut pour récupérer les premiers résultats d'une recherche d'une requête\n",
    "sur Qwant. \n",
    "\n",
    "Tips : \n",
    "\n",
    "- Aller sur https://www.qwant.com/\n",
    "- Ouvrir les outils de développements de Chrome ou Firefox\n",
    "- Onglet Network\n",
    "- Fouiller dans les requêtes"
   ]
  },
  {
   "cell_type": "markdown",
   "metadata": {},
   "source": [
    "# Exercice Final  "
   ]
  },
  {
   "cell_type": "markdown",
   "metadata": {},
   "source": [
    "Exercice Final\n",
    "Utilisez tout ce que vous avez appris pour récupérer des articles de News avec une catégorie. Il est souvent intéressant de partir des flux RSS pour commencer :\n",
    "\n",
    "Les données doivent comprendre :\n",
    "- Le texte important propre\n",
    "- L'url\n",
    "- Le domaine\n",
    "- la catégorie\n",
    "- Le titre de l'article\n",
    "- Le titre de la page\n",
    "- (Facultatif) : les images\n",
    "\n",
    "Tips : \n",
    "\n",
    "- Taper le nom de votre média favoris + RSS (par exemple : https://www.lemonde.fr/rss/)\n",
    "- Aller dans le DOM de la page \n",
    "- Trouver les catégories et les liens vers les articles"
   ]
  },
  {
   "cell_type": "code",
   "execution_count": null,
   "metadata": {},
   "outputs": [],
   "source": []
  }
 ],
 "metadata": {
  "kernelspec": {
   "display_name": "Python 3",
   "language": "python",
   "name": "python3"
  },
  "language_info": {
   "codemirror_mode": {
    "name": "ipython",
    "version": 3
   },
   "file_extension": ".py",
   "mimetype": "text/x-python",
   "name": "python",
   "nbconvert_exporter": "python",
   "pygments_lexer": "ipython3",
   "version": "3.7.3-final"
  }
 },
 "nbformat": 4,
 "nbformat_minor": 2
}